{
  "nbformat": 4,
  "nbformat_minor": 0,
  "metadata": {
    "colab": {
      "name": "3장-2 선형 회귀",
      "provenance": [],
      "authorship_tag": "ABX9TyNv3kwZl7GqznAC7vd4cBIL"
    },
    "kernelspec": {
      "name": "python3",
      "display_name": "Python 3"
    },
    "language_info": {
      "name": "python"
    }
  },
  "cells": [
    {
      "cell_type": "markdown",
      "source": [
        "###시작 전 이전 모델의 오류 예상\n",
        "KNeighborRegressor은 해당 수치 근처의 점 n_neighbors개의 타깃 평균을 구하는 것임<br>\n",
        "만약 훈련세트에서 조금 멀리 벗어 나는 값에 대해서는 예측이 정확하지 않기 때문에 값이 틀리게 나올 것 같다.\n",
        "\n",
        "---\n",
        "ex)<br>\n",
        "최근접 값 3개: (30, 100), (30, 100), (30, 100)<br>\n",
        "예측 해야되는 값: 50<br>\n",
        "예측값: 100<br>\n",
        "실행결과\n",
        "![image.png](data:image/png;base64,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)\n",
        "---\n",
        "100, 200, 300을 넣어도 값이 100으로 나옴"
      ],
      "metadata": {
        "id": "UJrrAK740nY6"
      }
    },
    {
      "cell_type": "markdown",
      "source": [
        "# 선형 회귀"
      ],
      "metadata": {
        "id": "r3UF_wdXyd13"
      }
    },
    {
      "cell_type": "code",
      "execution_count": 7,
      "metadata": {
        "id": "E7eZHjNmyEKs"
      },
      "outputs": [],
      "source": [
        "import numpy as np\n",
        "perch_length = np.array([8.4, 13.7, 15.0, 16.2, 17.4, 18.0, 18.7, 19.0, 19.6, 20.0, 21.0,\n",
        "       21.0, 21.0, 21.3, 22.0, 22.0, 22.0, 22.0, 22.0, 22.5, 22.5, 22.7,\n",
        "       23.0, 23.5, 24.0, 24.0, 24.6, 25.0, 25.6, 26.5, 27.3, 27.5, 27.5,\n",
        "       27.5, 28.0, 28.7, 30.0, 32.8, 34.5, 35.0, 36.5, 36.0, 37.0, 37.0,\n",
        "       39.0, 39.0, 39.0, 40.0, 40.0, 40.0, 40.0, 42.0, 43.0, 43.0, 43.5,\n",
        "       44.0])\n",
        "perch_weight = np.array([5.9, 32.0, 40.0, 51.5, 70.0, 100.0, 78.0, 80.0, 85.0, 85.0, 110.0,\n",
        "       115.0, 125.0, 130.0, 120.0, 120.0, 130.0, 135.0, 110.0, 130.0,\n",
        "       150.0, 145.0, 150.0, 170.0, 225.0, 145.0, 188.0, 180.0, 197.0,\n",
        "       218.0, 300.0, 260.0, 265.0, 250.0, 250.0, 300.0, 320.0, 514.0,\n",
        "       556.0, 840.0, 685.0, 700.0, 700.0, 690.0, 900.0, 650.0, 820.0,\n",
        "       850.0, 900.0, 1015.0, 820.0, 1100.0, 1000.0, 1100.0, 1000.0,\n",
        "       1000.0])"
      ]
    },
    {
      "cell_type": "code",
      "source": [
        "from sklearn.model_selection import train_test_split\n",
        "\n",
        "train_input, test_input, train_target, test_target = train_test_split(perch_length, perch_weight, random_state=42)\n",
        "print(train_input)\n",
        "print(test_input)\n",
        "# 2차원으로 변경\n",
        "train_input = train_input.reshape(-1, 1)\n",
        "test_input = test_input.reshape(-1, 1)\n",
        "print(train_input)\n",
        "print(test_input)"
      ],
      "metadata": {
        "colab": {
          "base_uri": "https://localhost:8080/"
        },
        "id": "-URwUNcazgOc",
        "outputId": "8daa1e86-1dd2-4643-957d-fa76f65c3a10"
      },
      "execution_count": 10,
      "outputs": [
        {
          "output_type": "stream",
          "name": "stdout",
          "text": [
            "[19.6 22.  18.7 17.4 36.  25.  40.  39.  43.  22.  20.  22.  24.  27.5\n",
            " 43.  40.  24.  21.  27.5 40.  32.8 26.5 36.5 13.7 22.7 15.  37.  35.\n",
            " 28.7 23.5 39.  21.  23.  22.  44.  22.5 19.  37.  22.  25.6 42.  34.5]\n",
            "[ 8.4 18.  27.5 21.3 22.5 40.  30.  24.6 39.  21.  43.5 16.2 28.  27.3]\n",
            "[[19.6]\n",
            " [22. ]\n",
            " [18.7]\n",
            " [17.4]\n",
            " [36. ]\n",
            " [25. ]\n",
            " [40. ]\n",
            " [39. ]\n",
            " [43. ]\n",
            " [22. ]\n",
            " [20. ]\n",
            " [22. ]\n",
            " [24. ]\n",
            " [27.5]\n",
            " [43. ]\n",
            " [40. ]\n",
            " [24. ]\n",
            " [21. ]\n",
            " [27.5]\n",
            " [40. ]\n",
            " [32.8]\n",
            " [26.5]\n",
            " [36.5]\n",
            " [13.7]\n",
            " [22.7]\n",
            " [15. ]\n",
            " [37. ]\n",
            " [35. ]\n",
            " [28.7]\n",
            " [23.5]\n",
            " [39. ]\n",
            " [21. ]\n",
            " [23. ]\n",
            " [22. ]\n",
            " [44. ]\n",
            " [22.5]\n",
            " [19. ]\n",
            " [37. ]\n",
            " [22. ]\n",
            " [25.6]\n",
            " [42. ]\n",
            " [34.5]]\n",
            "[[ 8.4]\n",
            " [18. ]\n",
            " [27.5]\n",
            " [21.3]\n",
            " [22.5]\n",
            " [40. ]\n",
            " [30. ]\n",
            " [24.6]\n",
            " [39. ]\n",
            " [21. ]\n",
            " [43.5]\n",
            " [16.2]\n",
            " [28. ]\n",
            " [27.3]]\n"
          ]
        }
      ]
    },
    {
      "cell_type": "code",
      "source": [
        "from sklearn.neighbors import KNeighborsRegressor\n",
        "\n",
        "knr = KNeighborsRegressor(n_neighbors = 3)\n",
        "knr.fit(train_input, train_target)"
      ],
      "metadata": {
        "colab": {
          "base_uri": "https://localhost:8080/"
        },
        "id": "lR-Yn4eE0FKO",
        "outputId": "04e0de0b-b840-4036-cfbd-067f62102f08"
      },
      "execution_count": 12,
      "outputs": [
        {
          "output_type": "execute_result",
          "data": {
            "text/plain": [
              "KNeighborsRegressor(n_neighbors=3)"
            ]
          },
          "metadata": {},
          "execution_count": 12
        }
      ]
    },
    {
      "cell_type": "code",
      "source": [
        "print(knr.predict([[50]]))"
      ],
      "metadata": {
        "colab": {
          "base_uri": "https://localhost:8080/"
        },
        "id": "A-KcAufJ0XzX",
        "outputId": "9f6530bc-cfae-4a95-a6e7-f807945bc131"
      },
      "execution_count": 15,
      "outputs": [
        {
          "output_type": "stream",
          "name": "stdout",
          "text": [
            "[1033.33333333]\n"
          ]
        }
      ]
    },
    {
      "cell_type": "code",
      "source": [
        "import matplotlib.pyplot as plt\n",
        "\n",
        "indexes = knr.kneighbors([[50]], return_distance=False)\n",
        "plt.scatter(train_input, train_target)\n",
        "plt.scatter(train_input[indexes], train_target[indexes], marker='D')\n",
        "plt.scatter(50, 1033, marker='^')\n",
        "plt.show()"
      ],
      "metadata": {
        "colab": {
          "base_uri": "https://localhost:8080/",
          "height": 265
        },
        "id": "QR6Dahbo3wHD",
        "outputId": "5d0e9884-a799-440f-920b-db66f29224d3"
      },
      "execution_count": 17,
      "outputs": [
        {
          "output_type": "display_data",
          "data": {
            "image/png": "[encoded data removed]",
            "text/plain": [
              "<Figure size 432x288 with 1 Axes>"
            ]
          },
          "metadata": {
            "needs_background": "light"
          }
        }
      ]
    },
    {
      "cell_type": "code",
      "source": [
        "print(knr.predict([[100]]))"
      ],
      "metadata": {
        "colab": {
          "base_uri": "https://localhost:8080/"
        },
        "id": "k9wyXKCD4-F6",
        "outputId": "e3acd930-5af1-4cdd-837d-e0aa4c4266f0"
      },
      "execution_count": 18,
      "outputs": [
        {
          "output_type": "stream",
          "name": "stdout",
          "text": [
            "[1033.33333333]\n"
          ]
        }
      ]
    },
    {
      "cell_type": "code",
      "source": [
        "import matplotlib.pyplot as plt\n",
        "\n",
        "indexes = knr.kneighbors([[100]], return_distance=False)\n",
        "plt.scatter(train_input, train_target)\n",
        "plt.scatter(train_input[indexes], train_target[indexes], marker='D')\n",
        "plt.scatter(100, 1033, marker='^')\n",
        "plt.show()"
      ],
      "metadata": {
        "colab": {
          "base_uri": "https://localhost:8080/",
          "height": 265
        },
        "id": "0sX1-IfX5ZoC",
        "outputId": "74f80ff9-47e0-4964-b6ca-4ddd2fc2e725"
      },
      "execution_count": 19,
      "outputs": [
        {
          "output_type": "display_data",
          "data": {
            "image/png": "[encoded data removed]",
            "text/plain": [
              "<Figure size 432x288 with 1 Axes>"
            ]
          },
          "metadata": {
            "needs_background": "light"
          }
        }
      ]
    },
    {
      "cell_type": "code",
      "source": [
        "from sklearn.linear_model import LinearRegression\n",
        "\n",
        "lr = LinearRegression()\n",
        "lr.fit(train_input, train_target)\n",
        "print(lr.predict([[50]]))"
      ],
      "metadata": {
        "colab": {
          "base_uri": "https://localhost:8080/"
        },
        "id": "VXo-_0PF5d2l",
        "outputId": "1383fb40-0da6-4fb9-f4b1-16183f238d2b"
      },
      "execution_count": 24,
      "outputs": [
        {
          "output_type": "stream",
          "name": "stdout",
          "text": [
            "[1241.83860323]\n"
          ]
        }
      ]
    },
    {
      "cell_type": "markdown",
      "source": [
        "#선형 회귀 알고리즘이란?\n",
        "훈련세트를 기반으로 $y = ax + b$를 구하는 것<br>\n",
        "coef_ 와 intercept_ 를 머신러닝 알고리즘이 찾은 값이라는 의미로 **모델 파라미터**라고 부른다.<br>\n",
        "머신러닝 알고리즘의 훈련 과정은 최적의 모델 파라미터를 찾는 것과 같다. 이를 **모델 기반 학습**이라고 부른다.<br>\n",
        "이전의 k-최근접 이웃에는 모델 파라미터가 없다. 훈련세트를 저장하는 것이 훈련의 전부였고 이를 **사례 기반 학습**이라고 부른다."
      ],
      "metadata": {
        "id": "9LGqoW4u85ZY"
      }
    },
    {
      "cell_type": "code",
      "source": [
        "# lr.coef_가 numpy인 이유: 고차함수인 경우도 있기 때문\n",
        "print(lr.coef_, lr.intercept_)"
      ],
      "metadata": {
        "colab": {
          "base_uri": "https://localhost:8080/"
        },
        "id": "DhCftNYD8Ko5",
        "outputId": "7002fcd8-17f1-4c9c-fea4-a4600e2f9184"
      },
      "execution_count": 25,
      "outputs": [
        {
          "output_type": "stream",
          "name": "stdout",
          "text": [
            "[39.01714496] -709.0186449535477\n"
          ]
        }
      ]
    },
    {
      "cell_type": "code",
      "source": [
        "plt.scatter(train_input, train_target)\n",
        "# 15부터 50까지의 길이와 선형 회귀로 얻은 target값의 직선\n",
        "plt.plot([15, 50], [15 * lr.coef_ + lr.intercept_, 50 * lr.coef_ + lr.intercept_])\n",
        "\n",
        "plt.scatter(50, 1241.8, marker='^')\n",
        "plt.show()"
      ],
      "metadata": {
        "colab": {
          "base_uri": "https://localhost:8080/",
          "height": 265
        },
        "id": "rqF3EQ6_-xP9",
        "outputId": "ce420074-5008-45f5-8b06-b557a1a17543"
      },
      "execution_count": 28,
      "outputs": [
        {
          "output_type": "display_data",
          "data": {
            "image/png": "[encoded data removed]",
            "text/plain": [
              "<Figure size 432x288 with 1 Axes>"
            ]
          },
          "metadata": {
            "needs_background": "light"
          }
        }
      ]
    },
    {
      "cell_type": "code",
      "source": [
        "# 전체적으로 과소적합\n",
        "# 길이가 15일때 무게가 minus가 됨\n",
        "print(lr.score(train_input, train_target))\n",
        "print(lr.score(test_input, test_target))"
      ],
      "metadata": {
        "colab": {
          "base_uri": "https://localhost:8080/"
        },
        "id": "RB4wqgy9AXss",
        "outputId": "a0f46f95-649e-4699-8d0f-b6f8ddab779a"
      },
      "execution_count": 29,
      "outputs": [
        {
          "output_type": "stream",
          "name": "stdout",
          "text": [
            "0.939846333997604\n",
            "0.8247503123313558\n"
          ]
        }
      ]
    },
    {
      "cell_type": "markdown",
      "source": [
        "# 다항 회귀\n",
        "다항 회귀도 선형 회귀라고 한다.<br>\n",
        "다항 회귀는 2차 방정식이기도 하지만 $x^2$을 $z$로 바꾸면 $y = az + bx + c$로 되어 z와 x의 선형관계로 표현 할 수 있다."
      ],
      "metadata": {
        "id": "k6bw6TO1Bhry"
      }
    },
    {
      "cell_type": "code",
      "source": [
        "# column_stack 사용 시\n",
        "# *주의 ((리스트1, 리스트2)) 두 리스트를 묶어 1개의 튜플로 만들어줘야 함 \n",
        "train_poly = np.column_stack((train_input ** 2, train_input))\n",
        "test_poly = np.column_stack((test_input ** 2, test_input))\n",
        "print(train_poly.shape)\n",
        "print(test_poly.shape)"
      ],
      "metadata": {
        "colab": {
          "base_uri": "https://localhost:8080/"
        },
        "id": "ICbQ6LzeAvmV",
        "outputId": "4ffe522e-131f-4599-b6c9-aef8e0e12f36"
      },
      "execution_count": 34,
      "outputs": [
        {
          "output_type": "stream",
          "name": "stdout",
          "text": [
            "(42, 2)\n",
            "(14, 2)\n"
          ]
        }
      ]
    },
    {
      "cell_type": "code",
      "source": [
        "lr = LinearRegression()\n",
        "lr.fit(train_poly, train_target)\n",
        "print(lr.predict([[50**2, 50]]))"
      ],
      "metadata": {
        "colab": {
          "base_uri": "https://localhost:8080/"
        },
        "id": "XgHOQojYCGnZ",
        "outputId": "60339d5f-3f61-42f7-e905-9d81a31f1c2e"
      },
      "execution_count": 35,
      "outputs": [
        {
          "output_type": "stream",
          "name": "stdout",
          "text": [
            "[1573.98423528]\n"
          ]
        }
      ]
    },
    {
      "cell_type": "code",
      "source": [
        "print(lr.coef_, lr.intercept_)"
      ],
      "metadata": {
        "colab": {
          "base_uri": "https://localhost:8080/"
        },
        "id": "U6qUx80iCrTk",
        "outputId": "44a45034-45d2-4b4b-be94-eb65daa752fe"
      },
      "execution_count": 36,
      "outputs": [
        {
          "output_type": "stream",
          "name": "stdout",
          "text": [
            "[  1.01433211 -21.55792498] 116.05021078278276\n"
          ]
        }
      ]
    },
    {
      "cell_type": "code",
      "source": [
        "point = np.arange(15, 50)\n",
        "plt.scatter(train_input, train_target)\n",
        "plt.plot(point, lr.coef_[0]*point**2 + lr.coef_[1]*point + lr.intercept_)\n",
        "plt.scatter(50, 1574, marker='^')\n",
        "plt.show()"
      ],
      "metadata": {
        "colab": {
          "base_uri": "https://localhost:8080/",
          "height": 265
        },
        "id": "chmIQ9nJCv3k",
        "outputId": "b6a1e4b5-d6f0-42a3-bae3-9070a63fe057"
      },
      "execution_count": 43,
      "outputs": [
        {
          "output_type": "display_data",
          "data": {
            "image/png": "[encoded data removed]",
            "text/plain": [
              "<Figure size 432x288 with 1 Axes>"
            ]
          },
          "metadata": {
            "needs_background": "light"
          }
        }
      ]
    },
    {
      "cell_type": "code",
      "source": [
        "print(lr.score(train_poly, train_target))\n",
        "print(lr.score(test_poly, test_target))"
      ],
      "metadata": {
        "colab": {
          "base_uri": "https://localhost:8080/"
        },
        "id": "FEqAxqeAFxwk",
        "outputId": "b1e3bd4f-11a1-41e3-9cf0-6b4ad34640ff"
      },
      "execution_count": 45,
      "outputs": [
        {
          "output_type": "stream",
          "name": "stdout",
          "text": [
            "0.9706807451768623\n",
            "0.9775935108325121\n"
          ]
        }
      ]
    }
  ]
}