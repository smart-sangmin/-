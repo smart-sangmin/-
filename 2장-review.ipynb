{
  "nbformat": 4,
  "nbformat_minor": 0,
  "metadata": {
    "colab": {
      "name": "2장 self",
      "provenance": [],
      "authorship_tag": "ABX9TyMvsIawzZl1g3LLLO5OEXKb"
    },
    "kernelspec": {
      "name": "python3",
      "display_name": "Python 3"
    },
    "language_info": {
      "name": "python"
    }
  },
  "cells": [
    {
      "cell_type": "code",
      "execution_count": 22,
      "metadata": {
        "id": "acEEtCjGfXR3"
      },
      "outputs": [],
      "source": [
        "fish_length = [25.4, 26.3, 26.5, 29.0, 29.0, 29.7, 29.7, 30.0, 30.0, 30.7, 31.0, 31.0, \n",
        "                31.5, 32.0, 32.0, 32.0, 33.0, 33.0, 33.5, 33.5, 34.0, 34.0, 34.5, 35.0, \n",
        "                35.0, 35.0, 35.0, 36.0, 36.0, 37.0, 38.5, 38.5, 39.5, 41.0, 41.0, 9.8, \n",
        "                10.5, 10.6, 11.0, 11.2, 11.3, 11.8, 11.8, 12.0, 12.2, 12.4, 13.0, 14.3, 15.0]\n",
        "fish_weight = [242.0, 290.0, 340.0, 363.0, 430.0, 450.0, 500.0, 390.0, 450.0, 500.0, 475.0, 500.0, \n",
        "                500.0, 340.0, 600.0, 600.0, 700.0, 700.0, 610.0, 650.0, 575.0, 685.0, 620.0, 680.0, \n",
        "                700.0, 725.0, 720.0, 714.0, 850.0, 1000.0, 920.0, 955.0, 925.0, 975.0, 950.0, 6.7, \n",
        "                7.5, 7.0, 9.7, 9.8, 8.7, 10.0, 9.9, 9.8, 12.2, 13.4, 12.2, 19.7, 19.9]        "
      ]
    },
    {
      "cell_type": "code",
      "source": [
        "import numpy as np\n",
        "# 이상한 도미\n",
        "strange = [25, 150]\n",
        "fish_data = np.column_stack((fish_length, fish_weight))\n",
        "print(fish_data)"
      ],
      "metadata": {
        "colab": {
          "base_uri": "https://localhost:8080/"
        },
        "id": "ePfRgJ1AfcKo",
        "outputId": "994e5a90-ee40-44ec-9ea0-2c3f4fb6d402"
      },
      "execution_count": 23,
      "outputs": [
        {
          "output_type": "stream",
          "name": "stdout",
          "text": [
            "[[  25.4  242. ]\n",
            " [  26.3  290. ]\n",
            " [  26.5  340. ]\n",
            " [  29.   363. ]\n",
            " [  29.   430. ]\n",
            " [  29.7  450. ]\n",
            " [  29.7  500. ]\n",
            " [  30.   390. ]\n",
            " [  30.   450. ]\n",
            " [  30.7  500. ]\n",
            " [  31.   475. ]\n",
            " [  31.   500. ]\n",
            " [  31.5  500. ]\n",
            " [  32.   340. ]\n",
            " [  32.   600. ]\n",
            " [  32.   600. ]\n",
            " [  33.   700. ]\n",
            " [  33.   700. ]\n",
            " [  33.5  610. ]\n",
            " [  33.5  650. ]\n",
            " [  34.   575. ]\n",
            " [  34.   685. ]\n",
            " [  34.5  620. ]\n",
            " [  35.   680. ]\n",
            " [  35.   700. ]\n",
            " [  35.   725. ]\n",
            " [  35.   720. ]\n",
            " [  36.   714. ]\n",
            " [  36.   850. ]\n",
            " [  37.  1000. ]\n",
            " [  38.5  920. ]\n",
            " [  38.5  955. ]\n",
            " [  39.5  925. ]\n",
            " [  41.   975. ]\n",
            " [  41.   950. ]\n",
            " [   9.8    6.7]\n",
            " [  10.5    7.5]\n",
            " [  10.6    7. ]\n",
            " [  11.     9.7]\n",
            " [  11.2    9.8]\n",
            " [  11.3    8.7]\n",
            " [  11.8   10. ]\n",
            " [  11.8    9.9]\n",
            " [  12.     9.8]\n",
            " [  12.2   12.2]\n",
            " [  12.4   13.4]\n",
            " [  13.    12.2]\n",
            " [  14.3   19.7]\n",
            " [  15.    19.9]]\n"
          ]
        }
      ]
    },
    {
      "cell_type": "code",
      "source": [
        "fish_target = np.concatenate((np.ones(35), np.zeros(14)))\n",
        "print(fish_target)"
      ],
      "metadata": {
        "colab": {
          "base_uri": "https://localhost:8080/"
        },
        "id": "bjfKQO2qgSaH",
        "outputId": "b8440853-9ca9-4256-ce08-cc5e8d55faf9"
      },
      "execution_count": 24,
      "outputs": [
        {
          "output_type": "stream",
          "name": "stdout",
          "text": [
            "[1. 1. 1. 1. 1. 1. 1. 1. 1. 1. 1. 1. 1. 1. 1. 1. 1. 1. 1. 1. 1. 1. 1. 1.\n",
            " 1. 1. 1. 1. 1. 1. 1. 1. 1. 1. 1. 0. 0. 0. 0. 0. 0. 0. 0. 0. 0. 0. 0. 0.\n",
            " 0.]\n"
          ]
        }
      ]
    },
    {
      "cell_type": "code",
      "source": [
        "mean = np.mean(fish_data, axis=0)\n",
        "std = np.std(fish_data, axis=0)\n",
        "print(mean, std)"
      ],
      "metadata": {
        "colab": {
          "base_uri": "https://localhost:8080/"
        },
        "id": "aztwGFshgefm",
        "outputId": "30c33651-a94a-4ebd-ee1d-82fc5df2af89"
      },
      "execution_count": 25,
      "outputs": [
        {
          "output_type": "stream",
          "name": "stdout",
          "text": [
            "[ 27.05510204 444.5       ] [ 10.13774642 324.77757224]\n"
          ]
        }
      ]
    },
    {
      "cell_type": "code",
      "source": [
        "# 데이터 전처리(표준점수[Z 점수])\n",
        "fish_data_scaled = (fish_data - mean) / std\n",
        "print(fish_data_scaled)"
      ],
      "metadata": {
        "colab": {
          "base_uri": "https://localhost:8080/"
        },
        "id": "WmcH4IOig81O",
        "outputId": "7352f2cd-2bfc-4aac-ca07-329e03e2418a"
      },
      "execution_count": 27,
      "outputs": [
        {
          "output_type": "stream",
          "name": "stdout",
          "text": [
            "[[-0.16326134 -0.62350364]\n",
            " [-0.07448421 -0.47571019]\n",
            " [-0.05475596 -0.32175867]\n",
            " [ 0.19184717 -0.25094097]\n",
            " [ 0.19184717 -0.04464594]\n",
            " [ 0.26089605  0.01693467]\n",
            " [ 0.26089605  0.17088618]\n",
            " [ 0.29048842 -0.16780715]\n",
            " [ 0.29048842  0.01693467]\n",
            " [ 0.3595373   0.17088618]\n",
            " [ 0.38912967  0.09391043]\n",
            " [ 0.38912967  0.17088618]\n",
            " [ 0.4384503   0.17088618]\n",
            " [ 0.48777093 -0.32175867]\n",
            " [ 0.48777093  0.47878922]\n",
            " [ 0.48777093  0.47878922]\n",
            " [ 0.58641218  0.78669225]\n",
            " [ 0.58641218  0.78669225]\n",
            " [ 0.6357328   0.50957952]\n",
            " [ 0.6357328   0.63274074]\n",
            " [ 0.68505343  0.40181346]\n",
            " [ 0.68505343  0.7405068 ]\n",
            " [ 0.73437406  0.54036983]\n",
            " [ 0.78369468  0.72511165]\n",
            " [ 0.78369468  0.78669225]\n",
            " [ 0.78369468  0.86366801]\n",
            " [ 0.78369468  0.84827286]\n",
            " [ 0.88233593  0.82979868]\n",
            " [ 0.88233593  1.2485468 ]\n",
            " [ 0.98097719  1.71040136]\n",
            " [ 1.12893906  1.46407893]\n",
            " [ 1.12893906  1.57184499]\n",
            " [ 1.22758032  1.47947408]\n",
            " [ 1.37554219  1.6334256 ]\n",
            " [ 1.37554219  1.55644984]\n",
            " [-1.70206487 -1.34799948]\n",
            " [-1.63301599 -1.34553626]\n",
            " [-1.62315187 -1.34707578]\n",
            " [-1.58369537 -1.33876239]\n",
            " [-1.56396712 -1.33845449]\n",
            " [-1.55410299 -1.34184142]\n",
            " [-1.50478237 -1.33783868]\n",
            " [-1.50478237 -1.33814659]\n",
            " [-1.48505411 -1.33845449]\n",
            " [-1.46532586 -1.33106482]\n",
            " [-1.44559761 -1.32736998]\n",
            " [-1.38641286 -1.33106482]\n",
            " [-1.25817924 -1.30797209]\n",
            " [-1.18913036 -1.30735628]]\n"
          ]
        }
      ]
    },
    {
      "cell_type": "code",
      "source": [
        "from sklearn.model_selection import train_test_split\n",
        "train_input, test_input, train_target, test_target = train_test_split(fish_data_scaled, fish_target, stratify=fish_target, random_state=42)"
      ],
      "metadata": {
        "id": "mRcOKoxbhVmn"
      },
      "execution_count": 30,
      "outputs": []
    },
    {
      "cell_type": "code",
      "source": [
        "from sklearn.neighbors import KNeighborsClassifier\n",
        "kn = KNeighborsClassifier()\n",
        "kn.fit(train_input, train_target)\n",
        "kn.score(test_input, test_target)"
      ],
      "metadata": {
        "colab": {
          "base_uri": "https://localhost:8080/"
        },
        "id": "GrwbKqrokku_",
        "outputId": "649bb3d2-f748-4c3d-e0b2-98f977feb9b7"
      },
      "execution_count": 33,
      "outputs": [
        {
          "output_type": "execute_result",
          "data": {
            "text/plain": [
              "1.0"
            ]
          },
          "metadata": {},
          "execution_count": 33
        }
      ]
    },
    {
      "cell_type": "code",
      "source": [
        "new = ([25, 150] - mean) / std\n",
        "distance, indexes = kn.kneighbors([new])\n",
        "import matplotlib.pyplot as plt\n",
        "plt.scatter(train_input[:,0], train_input[:,1])\n",
        "plt.scatter(new[0], new[1], marker='^')\n",
        "plt.scatter(train_input[indexes, 0], train_input[indexes, 1], marker='D')\n",
        "plt.show()"
      ],
      "metadata": {
        "colab": {
          "base_uri": "https://localhost:8080/",
          "height": 265
        },
        "id": "Vm7xwA9HiJd2",
        "outputId": "8e1642c7-3234-4ea4-9ccd-40e22bfeb467"
      },
      "execution_count": 37,
      "outputs": [
        {
          "output_type": "display_data",
          "data": {
            "image/png": "[encoded data removed]",
            "text/plain": [
              "<Figure size 432x288 with 1 Axes>"
            ]
          },
          "metadata": {
            "needs_background": "light"
          }
        }
      ]
    },
    {
      "cell_type": "code",
      "source": [
        "from sklearn.neighbors import KNeighborsClassifier\n",
        "kn = KNeighborsClassifier()\n",
        "kn.fit(train_input, train_target)\n",
        "kn.score(test_input, test_target)"
      ],
      "metadata": {
        "colab": {
          "base_uri": "https://localhost:8080/"
        },
        "id": "QkNrMmuoizAc",
        "outputId": "d3d6dded-27cd-4539-a2c3-c911df263cc7"
      },
      "execution_count": 38,
      "outputs": [
        {
          "output_type": "execute_result",
          "data": {
            "text/plain": [
              "1.0"
            ]
          },
          "metadata": {},
          "execution_count": 38
        }
      ]
    },
    {
      "cell_type": "code",
      "source": [
        "print(kn.predict([new]))"
      ],
      "metadata": {
        "colab": {
          "base_uri": "https://localhost:8080/"
        },
        "id": "BZYx1Rqwka2J",
        "outputId": "f7eb40ec-4987-47a8-a318-f1d532d01487"
      },
      "execution_count": 39,
      "outputs": [
        {
          "output_type": "stream",
          "name": "stdout",
          "text": [
            "[1.]\n"
          ]
        }
      ]
    }
  ]
}
