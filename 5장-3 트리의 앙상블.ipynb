{
  "nbformat": 4,
  "nbformat_minor": 0,
  "metadata": {
    "colab": {
      "name": "5장-3 트리의 앙상블",
      "provenance": [],
      "authorship_tag": "ABX9TyPLgBlXXxZNAyqRv2FxRdyC"
    },
    "kernelspec": {
      "name": "python3",
      "display_name": "Python 3"
    },
    "language_info": {
      "name": "python"
    }
  },
  "cells": [
    {
      "cell_type": "markdown",
      "source": [
        "# 정형 데이터와 비정형 데이터\n",
        "정형 데이터(머신러닝에 잘 맞음): 어떤 구조로 가지런히 정리되어 있는 데이터. csv나 데이터베이스, 엑셀에 저장하기 쉬움<br>\n",
        "비정형 데이터(딥러닝에 잘 맞음): 데이터 베이스나 엑셀로 표현하기 어려운 것들(텍스트 데이터, 사진, 음악)"
      ],
      "metadata": {
        "id": "gr3jpThAzrqQ"
      }
    },
    {
      "cell_type": "markdown",
      "source": [
        "# 앙상블 학습\n",
        "정형 데이터를 다루는 가장 좋은 알고리즘\n",
        "ex) 랜덤 포레스트"
      ],
      "metadata": {
        "id": "PXIRP1b_0I1p"
      }
    },
    {
      "cell_type": "markdown",
      "source": [
        "#랜덤 포레스트(Random Forest)\n",
        "앙상블 학습의 대표 주자 중 하나<br>\n",
        "결정 트리를 랜덤하게 만들어서 결정 트리의 숲을 형성하는 알고리즘<br>\n",
        "각 트리를 훈련하기 위한 데이터를 랜덤하게 뽑는데 이 데이터를 만드는 법이 독특하다.<br>\n",
        "각 노드를 분할할 때, 전체 특성 중에서 일부 특성을 무작위로 고른 다음 이중에서 최선의 분할을 찾는다.<br>\n",
        "RandomForestClassifier는 기본적으로 \n",
        "\n",
        "---\n",
        "ex) 트리 훈련 데이터<br>\n",
        "예를 들어 1000개의 샘플이 있고 중복을 허용하여 1000개의 샘플을 뽑는다. 이것을 ***부트스트랩 샘플***이라고 한다.\n"
      ],
      "metadata": {
        "id": "vYS4Vc350Uur"
      }
    },
    {
      "cell_type": "code",
      "execution_count": 78,
      "metadata": {
        "id": "p5BzKUBEtedR"
      },
      "outputs": [],
      "source": [
        "import numpy as np\n",
        "import pandas as pd\n",
        "from sklearn.model_selection import train_test_split\n",
        "wine = pd.read_csv('https://bit.ly/wine_csv_data')\n",
        "data = wine[['alcohol', 'sugar', 'pH']].to_numpy()\n",
        "target= wine['class'].to_numpy()\n",
        "train_input, test_input, train_target, test_target = train_test_split(data, target, test_size=0.2, random_state=42)"
      ]
    },
    {
      "cell_type": "code",
      "source": [
        "from sklearn.model_selection import cross_validate\n",
        "from sklearn.ensemble import RandomForestClassifier\n",
        "rf = RandomForestClassifier(n_jobs = -1, random_state=42)\n",
        "scores = cross_validate(rf, train_input, train_target, return_train_score=True, n_jobs=-1)\n",
        "# 훈련 데이터 점수, 검증 데이터 점수\n",
        "print(np.mean(score['train_score']), np.mean(score['test_score']))"
      ],
      "metadata": {
        "colab": {
          "base_uri": "https://localhost:8080/"
        },
        "id": "750NjDTnCczP",
        "outputId": "4e3a9287-1961-46b8-f715-d33870c97662"
      },
      "execution_count": 79,
      "outputs": [
        {
          "output_type": "stream",
          "name": "stdout",
          "text": [
            "0.9973541965122431 0.8905151032797809\n"
          ]
        }
      ]
    },
    {
      "cell_type": "code",
      "source": [
        "rf.fit(train_input, train_target)\n",
        "print(rf.feature_importances_)"
      ],
      "metadata": {
        "colab": {
          "base_uri": "https://localhost:8080/"
        },
        "id": "HEyVUkEGDSQ2",
        "outputId": "da98cc9c-b3db-49b6-9c9f-d4811f5a6772"
      },
      "execution_count": 80,
      "outputs": [
        {
          "output_type": "stream",
          "name": "stdout",
          "text": [
            "[0.23167441 0.50039841 0.26792718]\n"
          ]
        }
      ]
    },
    {
      "cell_type": "markdown",
      "source": [
        "RandomForestClassifier는 자체적으로 모델을 평가하는 점수를 얻을 수 있다.<br>\n",
        "교차 검증을 대신 할 수 있다.<br>\n",
        "부트스트랩 샘플에 포함되지 않은 샘플을 OOB(out of bag)이라고 한다.<br>\n",
        "이 OOB로 bootstrap sample로 훈련한 결정 트리를 평가할 수 있다.<br>\n",
        "방법은 RandomForestClassfier 클래스의 oob_score 매개변수를 True로 지정한다.<br>\n",
        "각 결정 트리의 oob점수를 평균하여 출력한다. (RandomForestClassifier.oob_score_)"
      ],
      "metadata": {
        "id": "J3D7TNS2MkvO"
      }
    },
    {
      "cell_type": "code",
      "source": [
        "rf = RandomForestClassifier(oob_score=True, n_jobs=-1, random_state=42)\n",
        "rf.fit(train_input, train_target)\n",
        "print(rf.oob_score_)"
      ],
      "metadata": {
        "id": "-tqxuT0aFJqI",
        "colab": {
          "base_uri": "https://localhost:8080/"
        },
        "outputId": "6226078f-6503-4780-affe-e287c7781be3"
      },
      "execution_count": 81,
      "outputs": [
        {
          "output_type": "stream",
          "name": "stdout",
          "text": [
            "0.8934000384837406\n"
          ]
        }
      ]
    },
    {
      "cell_type": "markdown",
      "source": [
        "# 엑스트라 트리(Extra Trees)\n",
        "기본적으로 랜덤포레스트와 동일. 하지만 부트스트랩 샘플을 사용하지 않는다.<br>\n",
        "노드를 분할할 때 가장 좋은 분할을 찾는 것이 아닌 무작위로 분할한다."
      ],
      "metadata": {
        "id": "YnLB4WNyPQU5"
      }
    },
    {
      "cell_type": "code",
      "source": [
        "from sklearn.ensemble import ExtraTreesClassifier\n",
        "et = ExtraTreesClassifier(n_jobs=-1, random_state=42)\n",
        "scores = cross_validate(et, train_input, train_target, return_train_score=True, n_jobs=-1)\n",
        "print(np.mean(scores['train_score']), np.mean(scores['test_score']))"
      ],
      "metadata": {
        "colab": {
          "base_uri": "https://localhost:8080/"
        },
        "id": "m_IctY1xQlr3",
        "outputId": "322f54b3-9bc6-4576-a655-52d7bbcc0044"
      },
      "execution_count": 82,
      "outputs": [
        {
          "output_type": "stream",
          "name": "stdout",
          "text": [
            "0.9974503966084433 0.8887848893166506\n"
          ]
        }
      ]
    },
    {
      "cell_type": "code",
      "source": [
        "et.fit(train_input, train_target)\n",
        "print(et.feature_importances_)"
      ],
      "metadata": {
        "colab": {
          "base_uri": "https://localhost:8080/"
        },
        "id": "udCzCfX0Q84w",
        "outputId": "f964c1cc-186a-4deb-a714-de5286bf2b1b"
      },
      "execution_count": 83,
      "outputs": [
        {
          "output_type": "stream",
          "name": "stdout",
          "text": [
            "[0.20183568 0.52242907 0.27573525]\n"
          ]
        }
      ]
    },
    {
      "cell_type": "markdown",
      "source": [
        "#그레이디언트 부스팅\n",
        "깊이가 얕은 결정트리를 사용해서 이전트리의 오차를 보완하는 방법<br>\n",
        "깊이가 max_depth인 트리를 순차적으로 이전 트리를 보완하며 n_estimators개 만듬.<br>\n",
        "일반적으로 랜덤포레스트보다 조금 더 높은 성능을 얻을 수 있다. 훈련속도가 느리다.(순서대로 한개의 트리만 만들기 때문에 n_jobs 매개변수가 없다.)\n",
        "\n",
        "---\n",
        "경사하강법을 사용하여 트리를 앙상블에 추가함.<br>\n",
        "분류: 로지스틱 손실 함수<br>\n",
        "회귀: 평균 제곱 오차 함수<br>\n",
        "트리를 경사하강법의 샘플로 적용(learning_rate: 트리가 앙상블에 기여하는 정도(산을 내려가는 속도))<br>\n",
        "\n",
        "---\n",
        "subsample 매개변수는 1.0으로 전체 훈련 세트를 사용한다. (배치 경사 하강법)<br>\n",
        "1보다 작을 경우 (확률적, 미니배치 경사 하강법)"
      ],
      "metadata": {
        "id": "t7U1TjQt-Bp6"
      }
    },
    {
      "cell_type": "code",
      "source": [
        "from sklearn.ensemble import GradientBoostingClassifier\n",
        "gb = GradientBoostingClassifier(random_state=42)\n",
        "scores = cross_validate(gb, train_input, train_target, return_train_score=True, n_jobs=-1)\n",
        "print(np.mean(scores['train_score']), np.mean(scores['test_score']))"
      ],
      "metadata": {
        "colab": {
          "base_uri": "https://localhost:8080/"
        },
        "id": "-po9iUAnevyf",
        "outputId": "644fa352-b9ce-40aa-fcfc-dfb7cc49abea"
      },
      "execution_count": 84,
      "outputs": [
        {
          "output_type": "stream",
          "name": "stdout",
          "text": [
            "0.8881086892152563 0.8720430147331015\n"
          ]
        }
      ]
    },
    {
      "cell_type": "code",
      "source": [
        "gb = GradientBoostingClassifier(n_estimators=500, learning_rate=0.2,  random_state=42)\n",
        "scores = cross_validate(gb, train_input, train_target, return_train_score=True, n_jobs=-1)\n",
        "print(np.mean(scores['train_score']), np.mean(scores['test_score']))"
      ],
      "metadata": {
        "colab": {
          "base_uri": "https://localhost:8080/"
        },
        "id": "-ZN2Ha2MfUii",
        "outputId": "f9c90291-e1b6-4647-b5b9-de5fb3043b97"
      },
      "execution_count": 85,
      "outputs": [
        {
          "output_type": "stream",
          "name": "stdout",
          "text": [
            "0.9464595437171814 0.8780082549788999\n"
          ]
        }
      ]
    },
    {
      "cell_type": "code",
      "source": [
        "gb.fit(train_input, train_target)\n",
        "print(gb.feature_importances_)\n",
        "print(gb.score(test_input, test_target))"
      ],
      "metadata": {
        "colab": {
          "base_uri": "https://localhost:8080/"
        },
        "id": "iNx2M4Sl33sR",
        "outputId": "5d5de8ea-2518-4425-ebd8-36899dddd4e7"
      },
      "execution_count": 86,
      "outputs": [
        {
          "output_type": "stream",
          "name": "stdout",
          "text": [
            "[0.15872278 0.68010884 0.16116839]\n",
            "0.8707692307692307\n"
          ]
        }
      ]
    },
    {
      "cell_type": "markdown",
      "source": [
        "#히스토그램 기반 그레이디언트 부스팅(HistGradientBoostingClassifier)\n",
        "입력 특성을 256개의 구간으로 나눈다.<br>\n",
        "255 + 1 <- 어떤 샘플에 누락된 값이 있다면 때어 놓은 한 개로 판단한다."
      ],
      "metadata": {
        "id": "9NVswedc9Q-t"
      }
    },
    {
      "cell_type": "code",
      "source": [
        "# from sklearn.experimental import enable_hist_gradient_boosting 현재 버전에는 안정적이게 histogram gradient boosting을 사용할 수 있기 때문에 사용하지 않아도 된다.\n",
        "from sklearn.ensemble import HistGradientBoostingClassifier\n",
        "hgb = HistGradientBoostingClassifier(random_state=42)\n",
        "scores = cross_validate(hgb, train_input, train_target, return_train_score=True)\n",
        "print(np.mean(scores['train_score']), np.mean(scores['test_score']))"
      ],
      "metadata": {
        "colab": {
          "base_uri": "https://localhost:8080/"
        },
        "id": "5ovmehmV4Aev",
        "outputId": "7ce0129c-ee44-466b-b2bc-3f5709d38052"
      },
      "execution_count": 87,
      "outputs": [
        {
          "output_type": "stream",
          "name": "stdout",
          "text": [
            "0.9321723946453317 0.8801241948619236\n"
          ]
        }
      ]
    },
    {
      "cell_type": "markdown",
      "source": [
        "### 히스토그램 기반 그레이디언트 부스팅의 특성 중요도\n",
        "특성 중요도를 계산하기 위해서는 permutation_importance() 함수를 이용하는데 이 함수는 특성을 하나씩 랜덤하게 섞어서 모델의 성능이 변화하는지를 관찰해서 어떤 특성이 중요한지 계산한다. n_repeats 매개변수는 랜덤하게 섞을 횟수를 지정"
      ],
      "metadata": {
        "id": "CBDqFpQVGl8o"
      }
    },
    {
      "cell_type": "code",
      "source": [
        "from sklearn.inspection import permutation_importance\n",
        "hgb.fit(train_input, train_target)\n",
        "# train\n",
        "result = permutation_importance(hgb, train_input, train_target, n_repeats=10, random_state=42, n_jobs=-1)\n",
        "print(result.importances)  # 특성 중요도 0: alcohol 특성을 10번 랜덤으로 섞어 나온 평균들, 1: sugar, 2: pH\n",
        "print(result.importances_mean)  # 중요도 평균 0: alcohol, 1: sugar, 2: pH"
      ],
      "metadata": {
        "colab": {
          "base_uri": "https://localhost:8080/"
        },
        "id": "p5ops8ibEiuo",
        "outputId": "b32936a3-1344-4466-a37c-8647dbdc20f7"
      },
      "execution_count": 88,
      "outputs": [
        {
          "output_type": "stream",
          "name": "stdout",
          "text": [
            "[[0.08793535 0.08350972 0.08908986 0.08312488 0.09274581 0.08755051\n",
            "  0.08601116 0.09601693 0.09082163 0.09082163]\n",
            " [0.22782374 0.23590533 0.23936887 0.23436598 0.23725226 0.23436598\n",
            "  0.23359631 0.23398114 0.23994612 0.22724649]\n",
            " [0.08581874 0.08601116 0.08062344 0.07504329 0.08427939 0.07792957\n",
            "  0.07234943 0.07465846 0.08139311 0.08466423]]\n",
            "[0.08876275 0.23438522 0.08027708]\n"
          ]
        }
      ]
    },
    {
      "cell_type": "code",
      "source": [
        "# test\n",
        "result = permutation_importance(hgb, test_input, test_target, n_repeats=10, random_state=42, n_jobs=-1)\n",
        "print(result.importances_mean)"
      ],
      "metadata": {
        "colab": {
          "base_uri": "https://localhost:8080/"
        },
        "id": "o56VJTJcIZk_",
        "outputId": "39b3797a-7dcc-4119-d092-2cc1e1ac46b1"
      },
      "execution_count": 89,
      "outputs": [
        {
          "output_type": "stream",
          "name": "stdout",
          "text": [
            "[0.05969231 0.20238462 0.049     ]\n"
          ]
        }
      ]
    },
    {
      "cell_type": "code",
      "source": [
        "# hgb 성능 최종 확인\n",
        "print(hgb.score(test_input, test_target))"
      ],
      "metadata": {
        "colab": {
          "base_uri": "https://localhost:8080/"
        },
        "id": "WNGCHL4aK7uy",
        "outputId": "128c1f83-b4c7-4a41-af9e-da953b8b72be"
      },
      "execution_count": 90,
      "outputs": [
        {
          "output_type": "stream",
          "name": "stdout",
          "text": [
            "0.8723076923076923\n"
          ]
        }
      ]
    },
    {
      "cell_type": "markdown",
      "source": [
        "#XGBoost\n",
        "GBM에 비하여 Optimization, algorithmic 향상<br>\n",
        "\n",
        "\n",
        "1.   System Optimization\n",
        "<br>*   Tree pruning using depth-first approch(criterion 대신 max_dept을 정해줌. depth-first가 계산 상의 이득을 가져옴)\n",
        "<br>*   병렬처리를 효과적으로 하기 위해서 학습 모델 구조 변경(computing overheads상쇄)\n",
        "<br>*   하드웨어 최적화\n",
        "2.   Algorithmic Enhancements\n",
        "<br>*   Regularization: L1, L2 규제 부여\n",
        "<br>*   Spasity Awareness: Sparity를 인정하고 다양한 유형의 Sparse pattern 처리\n",
        "<br>*   Weight Quantile Sketh: \"distributed weighted Quantile Sketch\" 알고리즘을 사용하여 최적의 분기점을 효율적으로 찾아냄\n",
        " \n",
        "\n"
      ],
      "metadata": {
        "id": "q1kMevcVSD9Q"
      }
    },
    {
      "cell_type": "code",
      "source": [
        "from xgboost import XGBClassifier\n",
        "xgb = XGBClassifier(tree_method='hist', random_state=42)\n",
        "scores = cross_validate(xgb, train_input, train_target, return_train_score=True, n_jobs=-1)\n",
        "print(np.mean(scores['train_score']), np.mean(scores['test_score']))"
      ],
      "metadata": {
        "colab": {
          "base_uri": "https://localhost:8080/"
        },
        "id": "_j4jDDfFLGMG",
        "outputId": "0b7a2b5b-7424-48df-ae8f-7500dc4a242e"
      },
      "execution_count": 91,
      "outputs": [
        {
          "output_type": "stream",
          "name": "stdout",
          "text": [
            "0.8824322471423747 0.8726214185237284\n"
          ]
        }
      ]
    },
    {
      "cell_type": "markdown",
      "source": [
        "# LightGBM\n",
        "마이크로소프트에서 만든 모델.<br>\n",
        "main 기술: \n",
        "  1. GOSS: Gradient-based One-Side Sampling (데이터 개체 수를 줄임)<br>\n",
        "  2. EFB: Exclusive Feature Bundling(Feature 수를 줄임)\n",
        "\n",
        "---\n",
        "***GOSS***(XGBoost에 비해서 속도와 성능 특히 속도를 향상시켰다.)<br>\n",
        "\n",
        "GBDT모델에서 가중치(데이터 개체 중요도)를 의미 하는 것은 gradient (데이터의 기울기가 작다는 것은 훈련 오차가 작다는 것을 의미)<br>\n",
        "GOSS는 큰 gradient 갖는 데이터는 남겨두고 작은 gradient를 갖는 데이터들을 무작위 sampling한다.\n",
        "\n",
        "---\n",
        "1. 데이터 개체들의 Gradient의 절대값에 따라 데이터 개체들을 정렬함<br>\n",
        "2. 상위 100a 개의 개체를 추출함(a:ratio of large gradient data)<br>\n",
        "3. 나머지 개체들 집합에서 100b개의 개체를 무작위로 추출함(b:ratio of small gradient data)<br>\n",
        "4. 정보 획득을 계산할 때, 위의 2-3 과정을 통해 추출된 Sampled Data를 상수( $\\frac{1- a}{b}$ )를 이용하여 증폭시킴<br>\n",
        "\n",
        "---\n",
        "***EFB***<br>\n",
        "희소한 변수 공간의 특성에 따라 배타적인 변수들을 하나의 변수로 묶는 걸 EFB라고 한다.<br>"
      ],
      "metadata": {
        "id": "bqoujOXHWX3D"
      }
    },
    {
      "cell_type": "code",
      "source": [
        "from lightgbm import LGBMClassifier\n",
        "lgb = LGBMClassifier(random_state=42)\n",
        "scores = cross_validate(lgb, train_input, train_target, return_train_score=True, n_jobs=-1)\n",
        "print(np.mean(scores['train_score']), np.mean(scores['test_score']))"
      ],
      "metadata": {
        "colab": {
          "base_uri": "https://localhost:8080/"
        },
        "id": "vn1FswqcL8pM",
        "outputId": "c670c782-5bc4-4a33-cfc7-7e9bb4143423"
      },
      "execution_count": 92,
      "outputs": [
        {
          "output_type": "stream",
          "name": "stdout",
          "text": [
            "0.9338079582727165 0.8789710890649293\n"
          ]
        }
      ]
    }
  ]
}