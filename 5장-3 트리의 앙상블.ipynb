{
  "nbformat": 4,
  "nbformat_minor": 0,
  "metadata": {
    "colab": {
      "name": "5장-3 트리의 앙상블",
      "provenance": [],
      "authorship_tag": "ABX9TyPcoAOUV4GtyeG8m1MSTUzY"
    },
    "kernelspec": {
      "name": "python3",
      "display_name": "Python 3"
    },
    "language_info": {
      "name": "python"
    }
  },
  "cells": [
    {
      "cell_type": "markdown",
      "source": [
        "# 정형 데이터와 비정형 데이터\n",
        "정형 데이터(머신러닝에 잘 맞음): 어떤 구조로 가지런히 정리되어 있는 데이터. csv나 데이터베이스, 엑셀에 저장하기 쉬움<br>\n",
        "비정형 데이터(딥러닝에 잘 맞음): 데이터 베이스나 엑셀로 표현하기 어려운 것들(텍스트 데이터, 사진, 음악)"
      ],
      "metadata": {
        "id": "gr3jpThAzrqQ"
      }
    },
    {
      "cell_type": "markdown",
      "source": [
        "# 앙상블 학습\n",
        "정형 데이터를 다루는 가장 좋은 알고리즘\n",
        "ex) 랜덤 포레스트"
      ],
      "metadata": {
        "id": "PXIRP1b_0I1p"
      }
    },
    {
      "cell_type": "markdown",
      "source": [
        "#랜덤 포레스트(Random Forest)\n",
        "앙상블 학습의 대표 주자 중 하나<br>\n",
        "결정 트리를 랜덤하게 만들어서 결정 트리의 숲을 형성하는 알고리즘<br>\n",
        "각 트리를 훈련하기 위한 데이터를 랜덤하게 뽑는데 이 데이터를 만드는 법이 독특하다.<br>\n",
        "각 노드를 분할할 때, 전체 특성 중에서 일부 특성을 무작위로 고른 다음 이중에서 최선의 분할을 찾는다.<br>\n",
        "RandomForestClassifier는 기본적으로 \n",
        "\n",
        "---\n",
        "ex) 트리 훈련 데이터<br>\n",
        "예를 들어 1000개의 샘플이 있고 중복을 허용하여 1000개의 샘플을 뽑는다. 이것을 ***부트스트랩 샘플***이라고 한다.\n"
      ],
      "metadata": {
        "id": "vYS4Vc350Uur"
      }
    },
    {
      "cell_type": "code",
      "execution_count": null,
      "metadata": {
        "id": "p5BzKUBEtedR"
      },
      "outputs": [],
      "source": [
        "import numpy as np\n",
        "import pandas as pd\n",
        "from sklearn.model_selection import train_test_split\n",
        "wine = pd.read_csv('https://bit.ly/wine_csv_data')\n",
        "data = wine[['alcohol', 'sugar', 'pH']].to_numpy()\n",
        "target= wine['class'].to_numpy()\n",
        "train_input, test_input, train_target, test_target = train_test_split(data, target, test_size=0.2, random_state=42)"
      ]
    },
    {
      "cell_type": "code",
      "source": [
        "from sklearn.model_selection import cross_validate\n",
        "from sklearn.ensemble import RandomForestClassifier\n",
        "rf = RandomForestClassifier(n_jobs = -1, random_state=42)\n",
        "score = cross_validate(rf, train_input, train_target, return_train_score=True, n_jobs=-1)\n",
        "# 훈련 데이터 점수, 검증 데이터 점수\n",
        "print(np.mean(score['train_score']), np.mean(score['test_score']))"
      ],
      "metadata": {
        "colab": {
          "base_uri": "https://localhost:8080/"
        },
        "id": "750NjDTnCczP",
        "outputId": "2a9436f5-3ba0-43f1-8fbc-3ca57c00c821"
      },
      "execution_count": null,
      "outputs": [
        {
          "output_type": "stream",
          "name": "stdout",
          "text": [
            "0.9973541965122431 0.8905151032797809\n"
          ]
        }
      ]
    },
    {
      "cell_type": "code",
      "source": [
        "rf.fit(train_input, train_target)\n",
        "print(rf.feature_importances_)"
      ],
      "metadata": {
        "colab": {
          "base_uri": "https://localhost:8080/"
        },
        "id": "HEyVUkEGDSQ2",
        "outputId": "0d9324aa-454f-4174-bfcd-f619503002f6"
      },
      "execution_count": null,
      "outputs": [
        {
          "output_type": "stream",
          "name": "stdout",
          "text": [
            "[0.23167441 0.50039841 0.26792718]\n"
          ]
        }
      ]
    },
    {
      "cell_type": "markdown",
      "source": [
        "RandomForestClassifier는 자체적으로 모델을 평가하는 점수를 얻을 수 있다.<br>\n",
        "교차 검증을 대신 할 수 있다.<br>\n",
        "부트스트랩 샘플에 포함되지 않은 샘플을 OOB(out of bag)이라고 한다.<br>\n",
        "이 OOB로 bootstrap sample로 훈련한 결정 트리를 평가할 수 있다.<br>\n",
        "방법은 RandomForestClassfier 클래스의 oob_score 매개변수를 True로 지정한다.<br>\n",
        "각 결정 트리의 oob점수를 평균하여 출력한다. (RandomForestClassifier.oob_score_)"
      ],
      "metadata": {
        "id": "J3D7TNS2MkvO"
      }
    },
    {
      "cell_type": "code",
      "source": [
        "rf = RandomForestClassifier(oob_score=True, n_jobs=-1, random_state=42)\n",
        "rf.fit(train_input, train_target)\n",
        "print(rf.oob_score_)"
      ],
      "metadata": {
        "id": "-tqxuT0aFJqI",
        "colab": {
          "base_uri": "https://localhost:8080/"
        },
        "outputId": "5340bc50-d45b-42f6-9fa6-6990aa02b4fb"
      },
      "execution_count": 10,
      "outputs": [
        {
          "output_type": "stream",
          "name": "stdout",
          "text": [
            "0.8934000384837406\n"
          ]
        }
      ]
    },
    {
      "cell_type": "markdown",
      "source": [
        "# 엑스트라 트리(Extra Trees)\n",
        "기본적으로 랜덤포레스트와 동일. 하지만 부트스트랩 샘플을 사용하지 않는다.<br>\n",
        "노드를 분할할 때 가장 좋은 분할을 찾는 것이 아닌 무작위로 분할한다."
      ],
      "metadata": {
        "id": "YnLB4WNyPQU5"
      }
    },
    {
      "cell_type": "code",
      "source": [
        "from sklearn.ensemble import ExtraTreesClassifier\n",
        "et = ExtraTreesClassifier(n_jobs=-1, random_state=42)\n",
        "scores = cross_validate(et, train_input, train_target, return_train_score=True, n_jobs=-1)\n",
        "print(np.mean(scores['train_score']), np.mean(scores['test_score']))"
      ],
      "metadata": {
        "colab": {
          "base_uri": "https://localhost:8080/"
        },
        "id": "m_IctY1xQlr3",
        "outputId": "b58ee6b6-ad6f-48ba-ff30-37378f87975e"
      },
      "execution_count": 11,
      "outputs": [
        {
          "output_type": "stream",
          "name": "stdout",
          "text": [
            "0.9974503966084433 0.8887848893166506\n"
          ]
        }
      ]
    },
    {
      "cell_type": "code",
      "source": [
        "et.fit(train_input, train_target)\n",
        "print(et.feature_importances_)"
      ],
      "metadata": {
        "colab": {
          "base_uri": "https://localhost:8080/"
        },
        "id": "udCzCfX0Q84w",
        "outputId": "e9beabb9-99ea-45cf-add1-c4447e392aae"
      },
      "execution_count": 15,
      "outputs": [
        {
          "output_type": "stream",
          "name": "stdout",
          "text": [
            "[0.20183568 0.52242907 0.27573525]\n"
          ]
        }
      ]
    }
  ]
}