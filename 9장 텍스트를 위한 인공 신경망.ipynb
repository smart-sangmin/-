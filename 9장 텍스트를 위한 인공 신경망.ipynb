{
  "nbformat": 4,
  "nbformat_minor": 0,
  "metadata": {
    "colab": {
      "name": "9장 텍스트를 위한 인공 신경망",
      "provenance": [],
      "authorship_tag": "ABX9TyPjaklgkvF1vk45eYcGJAXC"
    },
    "kernelspec": {
      "name": "python3",
      "display_name": "Python 3"
    },
    "language_info": {
      "name": "python"
    }
  },
  "cells": [
    {
      "cell_type": "code",
      "execution_count": 1,
      "metadata": {
        "colab": {
          "base_uri": "https://localhost:8080/"
        },
        "id": "xnqDU4AqeD6O",
        "outputId": "175fac61-c46b-4491-e364-9a559157c5b5"
      },
      "outputs": [
        {
          "output_type": "stream",
          "name": "stdout",
          "text": [
            "Downloading data from https://storage.googleapis.com/tensorflow/tf-keras-datasets/imdb.npz\n",
            "17465344/17464789 [==============================] - 0s 0us/step\n",
            "17473536/17464789 [==============================] - 0s 0us/step\n"
          ]
        }
      ],
      "source": [
        "from tensorflow.keras.datasets import imdb\n",
        "(train_input, train_target), (test_input, test_target) = imdb.load_data(num_words=500)"
      ]
    },
    {
      "cell_type": "code",
      "source": [
        "print(train_input.shape, test_input.shape)"
      ],
      "metadata": {
        "colab": {
          "base_uri": "https://localhost:8080/"
        },
        "id": "5RPhl-okf6O0",
        "outputId": "436d4586-e298-4f04-ed3d-d085b1ca4f7f"
      },
      "execution_count": 2,
      "outputs": [
        {
          "output_type": "stream",
          "name": "stdout",
          "text": [
            "(25000,) (25000,)\n"
          ]
        }
      ]
    },
    {
      "cell_type": "code",
      "source": [
        "print(len(train_input[0]), len(train_input[1]))"
      ],
      "metadata": {
        "colab": {
          "base_uri": "https://localhost:8080/"
        },
        "id": "7gi4l_s7f_QI",
        "outputId": "0c250c53-0370-46e3-bd5e-2f8ba6d54986"
      },
      "execution_count": 4,
      "outputs": [
        {
          "output_type": "stream",
          "name": "stdout",
          "text": [
            "218 189\n"
          ]
        }
      ]
    },
    {
      "cell_type": "code",
      "source": [
        "print(train_input[0])"
      ],
      "metadata": {
        "colab": {
          "base_uri": "https://localhost:8080/"
        },
        "id": "nnkvMeQQg75p",
        "outputId": "39a20ee6-4053-42d0-f452-affdb9288172"
      },
      "execution_count": 5,
      "outputs": [
        {
          "output_type": "stream",
          "name": "stdout",
          "text": [
            "[1, 14, 22, 16, 43, 2, 2, 2, 2, 65, 458, 2, 66, 2, 4, 173, 36, 256, 5, 25, 100, 43, 2, 112, 50, 2, 2, 9, 35, 480, 284, 5, 150, 4, 172, 112, 167, 2, 336, 385, 39, 4, 172, 2, 2, 17, 2, 38, 13, 447, 4, 192, 50, 16, 6, 147, 2, 19, 14, 22, 4, 2, 2, 469, 4, 22, 71, 87, 12, 16, 43, 2, 38, 76, 15, 13, 2, 4, 22, 17, 2, 17, 12, 16, 2, 18, 2, 5, 62, 386, 12, 8, 316, 8, 106, 5, 4, 2, 2, 16, 480, 66, 2, 33, 4, 130, 12, 16, 38, 2, 5, 25, 124, 51, 36, 135, 48, 25, 2, 33, 6, 22, 12, 215, 28, 77, 52, 5, 14, 407, 16, 82, 2, 8, 4, 107, 117, 2, 15, 256, 4, 2, 7, 2, 5, 2, 36, 71, 43, 2, 476, 26, 400, 317, 46, 7, 4, 2, 2, 13, 104, 88, 4, 381, 15, 297, 98, 32, 2, 56, 26, 141, 6, 194, 2, 18, 4, 226, 22, 21, 134, 476, 26, 480, 5, 144, 30, 2, 18, 51, 36, 28, 224, 92, 25, 104, 4, 226, 65, 16, 38, 2, 88, 12, 16, 283, 5, 16, 2, 113, 103, 32, 15, 16, 2, 19, 178, 32]\n"
          ]
        }
      ]
    },
    {
      "cell_type": "code",
      "source": [
        "print(train_target[:20])  # 1은 긍정 0은 부정"
      ],
      "metadata": {
        "colab": {
          "base_uri": "https://localhost:8080/"
        },
        "id": "AUgwL4r8hI1n",
        "outputId": "892d079c-7e44-46ac-9f5b-38dd59bcf79e"
      },
      "execution_count": 6,
      "outputs": [
        {
          "output_type": "stream",
          "name": "stdout",
          "text": [
            "[1 0 0 1 0 0 1 0 1 0 1 0 0 0 0 0 1 1 0 1]\n"
          ]
        }
      ]
    },
    {
      "cell_type": "code",
      "source": [
        "from sklearn.model_selection import train_test_split\n",
        "train_input, val_input, train_target, val_target = train_test_split(train_input, train_target, test_size=0.2, random_state=42)"
      ],
      "metadata": {
        "id": "88mz6CyVi76X"
      },
      "execution_count": 7,
      "outputs": []
    },
    {
      "cell_type": "code",
      "source": [
        "import numpy as np\n",
        "lengths = [len(x) for x in train_input]"
      ],
      "metadata": {
        "id": "T1R-9yGBjYuV"
      },
      "execution_count": 8,
      "outputs": []
    },
    {
      "cell_type": "code",
      "source": [
        "print(np.mean(lengths), np.median(lengths))"
      ],
      "metadata": {
        "colab": {
          "base_uri": "https://localhost:8080/"
        },
        "id": "lg6eIhpQkUuT",
        "outputId": "38e6b0b8-be84-4e2a-e998-990b157b7ba4"
      },
      "execution_count": 9,
      "outputs": [
        {
          "output_type": "stream",
          "name": "stdout",
          "text": [
            "239.00925 178.0\n"
          ]
        }
      ]
    },
    {
      "cell_type": "code",
      "source": [
        "import matplotlib.pyplot as plt\n",
        "plt.hist(lengths)\n",
        "plt.xlabel('length')\n",
        "plt.ylabel('frequency')\n",
        "plt.show()"
      ],
      "metadata": {
        "colab": {
          "base_uri": "https://localhost:8080/",
          "height": 279
        },
        "id": "-KgwZR_3kZuA",
        "outputId": "e80ab586-cf99-4c83-cb1f-fb05c0b3a045"
      },
      "execution_count": 10,
      "outputs": [
        {
          "output_type": "display_data",
          "data": {
            "image/png": "[encoded data removed]",
            "text/plain": [
              "<Figure size 432x288 with 1 Axes>"
            ]
          },
          "metadata": {
            "needs_background": "light"
          }
        }
      ]
    },
    {
      "cell_type": "code",
      "source": [
        "from tensorflow.keras.preprocessing.sequence import pad_sequences\n",
        "train_seq = pad_sequences(train_input, maxlen=100)"
      ],
      "metadata": {
        "id": "MazMzjgukzdp"
      },
      "execution_count": 11,
      "outputs": []
    },
    {
      "cell_type": "code",
      "source": [
        "print(train_input.shape, train_seq.shape)"
      ],
      "metadata": {
        "colab": {
          "base_uri": "https://localhost:8080/"
        },
        "id": "UOpKzlnblVHJ",
        "outputId": "cae85ec2-7b44-4c6c-c813-932aceb2c654"
      },
      "execution_count": 12,
      "outputs": [
        {
          "output_type": "stream",
          "name": "stdout",
          "text": [
            "(20000,) (20000, 100)\n"
          ]
        }
      ]
    },
    {
      "cell_type": "code",
      "source": [
        "print(train_seq[0])"
      ],
      "metadata": {
        "colab": {
          "base_uri": "https://localhost:8080/"
        },
        "id": "_oCwCNrMlgiq",
        "outputId": "16c3316a-ee8d-4dab-e4ce-e2c37fc773a5"
      },
      "execution_count": 13,
      "outputs": [
        {
          "output_type": "stream",
          "name": "stdout",
          "text": [
            "[ 10   4  20   9   2 364 352   5  45   6   2   2  33 269   8   2 142   2\n",
            "   5   2  17  73  17 204   5   2  19  55   2   2  92  66 104  14  20  93\n",
            "  76   2 151  33   4  58  12 188   2 151  12 215  69 224 142  73 237   6\n",
            "   2   7   2   2 188   2 103  14  31  10  10 451   7   2   5   2  80  91\n",
            "   2  30   2  34  14  20 151  50  26 131  49   2  84  46  50  37  80  79\n",
            "   6   2  46   7  14  20  10  10 470 158]\n"
          ]
        }
      ]
    },
    {
      "cell_type": "code",
      "source": [
        "val_seq = pad_sequences(val_input, maxlen=100)"
      ],
      "metadata": {
        "id": "rPfWLsBElrj4"
      },
      "execution_count": 15,
      "outputs": []
    },
    {
      "cell_type": "code",
      "source": [
        "from tensorflow import keras\n",
        "from tensorflow.keras.layers import SimpleRNN, Dense\n",
        "model = keras.Sequential()\n",
        "model.add(SimpleRNN(8, input_shape=(100, 500)))\n",
        "model.add(Dense(1, activation='sigmoid'))"
      ],
      "metadata": {
        "id": "jVU4jjuKnCAY"
      },
      "execution_count": 16,
      "outputs": []
    },
    {
      "cell_type": "code",
      "source": [
        "train_oh = keras.utils.to_categorical(train_seq)"
      ],
      "metadata": {
        "id": "NpzP4CznnheJ"
      },
      "execution_count": 17,
      "outputs": []
    },
    {
      "cell_type": "code",
      "source": [
        "print(train_oh.shape)"
      ],
      "metadata": {
        "colab": {
          "base_uri": "https://localhost:8080/"
        },
        "id": "CkN8wi9qoX6s",
        "outputId": "11f4abdb-f8aa-4d39-8d9f-0b04f503e648"
      },
      "execution_count": 18,
      "outputs": [
        {
          "output_type": "stream",
          "name": "stdout",
          "text": [
            "(20000, 100, 500)\n"
          ]
        }
      ]
    },
    {
      "cell_type": "code",
      "source": [
        "print(train_oh[0][0][:12])  # train_oh[0].shape = (100, 500) , train_oh[0][0].shape = (500, )"
      ],
      "metadata": {
        "colab": {
          "base_uri": "https://localhost:8080/"
        },
        "id": "oWRr79WJoZ2R",
        "outputId": "75f4e10d-d422-46e4-d6d5-54119c572dc4"
      },
      "execution_count": 22,
      "outputs": [
        {
          "output_type": "stream",
          "name": "stdout",
          "text": [
            "[0. 0. 0. 0. 0. 0. 0. 0. 0. 0. 1. 0.]\n"
          ]
        }
      ]
    },
    {
      "cell_type": "code",
      "source": [
        "val_oh= keras.utils.to_categorical(val_seq)"
      ],
      "metadata": {
        "id": "dqROUzpXoyNw"
      },
      "execution_count": 23,
      "outputs": []
    },
    {
      "cell_type": "code",
      "source": [
        "model.summary()"
      ],
      "metadata": {
        "colab": {
          "base_uri": "https://localhost:8080/"
        },
        "id": "GEJA-XILpe1s",
        "outputId": "be901468-9ba8-4952-bc7d-876a3d70c32d"
      },
      "execution_count": 24,
      "outputs": [
        {
          "output_type": "stream",
          "name": "stdout",
          "text": [
            "Model: \"sequential\"\n",
            "_________________________________________________________________\n",
            " Layer (type)                Output Shape              Param #   \n",
            "=================================================================\n",
            " simple_rnn (SimpleRNN)      (None, 8)                 4072      \n",
            "                                                                 \n",
            " dense (Dense)               (None, 1)                 9         \n",
            "                                                                 \n",
            "=================================================================\n",
            "Total params: 4,081\n",
            "Trainable params: 4,081\n",
            "Non-trainable params: 0\n",
            "_________________________________________________________________\n"
          ]
        }
      ]
    },
    {
      "cell_type": "code",
      "source": [
        "rmsprop = keras.optimizers.RMSprop(learning_rate = 1e-4)\n",
        "model.compile(optimizer=rmsprop, loss='binary_crossentropy', metrics=['accuracy'])\n",
        "checkpoint_cb = keras.callbacks.ModelCheckpoint('best-simplernn-model.h5', save_best_only=True)\n",
        "early_stopping_cb = keras.callbacks.EarlyStopping(patience=3, restore_best_weights=True)\n",
        "\n",
        "history = model.fit(train_oh, train_target, epochs=100, batch_size=64, validation_data=(val_oh, val_target), callbacks=[checkpoint_cb, early_stopping_cb])"
      ],
      "metadata": {
        "colab": {
          "base_uri": "https://localhost:8080/"
        },
        "id": "I-TjoTRFphUT",
        "outputId": "dbd33ab6-7236-435a-d777-cbdd515899dc"
      },
      "execution_count": 29,
      "outputs": [
        {
          "output_type": "stream",
          "name": "stdout",
          "text": [
            "Epoch 1/100\n",
            "313/313 [==============================] - 20s 59ms/step - loss: 0.6934 - accuracy: 0.5178 - val_loss: 0.6823 - val_accuracy: 0.5610\n",
            "Epoch 2/100\n",
            "313/313 [==============================] - 14s 44ms/step - loss: 0.6593 - accuracy: 0.6041 - val_loss: 0.6327 - val_accuracy: 0.6460\n",
            "Epoch 3/100\n",
            "313/313 [==============================] - 14s 45ms/step - loss: 0.6136 - accuracy: 0.6721 - val_loss: 0.5938 - val_accuracy: 0.6970\n",
            "Epoch 4/100\n",
            "313/313 [==============================] - 21s 67ms/step - loss: 0.5780 - accuracy: 0.7114 - val_loss: 0.5664 - val_accuracy: 0.7238\n",
            "Epoch 5/100\n",
            "313/313 [==============================] - 24s 77ms/step - loss: 0.5528 - accuracy: 0.7347 - val_loss: 0.5466 - val_accuracy: 0.7364\n",
            "Epoch 6/100\n",
            "313/313 [==============================] - 21s 68ms/step - loss: 0.5329 - accuracy: 0.7491 - val_loss: 0.5322 - val_accuracy: 0.7442\n",
            "Epoch 7/100\n",
            "313/313 [==============================] - 21s 67ms/step - loss: 0.5167 - accuracy: 0.7617 - val_loss: 0.5176 - val_accuracy: 0.7626\n",
            "Epoch 8/100\n",
            "313/313 [==============================] - 13s 42ms/step - loss: 0.5035 - accuracy: 0.7710 - val_loss: 0.5084 - val_accuracy: 0.7660\n",
            "Epoch 9/100\n",
            "313/313 [==============================] - 13s 42ms/step - loss: 0.4929 - accuracy: 0.7770 - val_loss: 0.5027 - val_accuracy: 0.7668\n",
            "Epoch 10/100\n",
            "313/313 [==============================] - 14s 45ms/step - loss: 0.4833 - accuracy: 0.7825 - val_loss: 0.4910 - val_accuracy: 0.7762\n",
            "Epoch 11/100\n",
            "313/313 [==============================] - 13s 43ms/step - loss: 0.4751 - accuracy: 0.7858 - val_loss: 0.4867 - val_accuracy: 0.7740\n",
            "Epoch 12/100\n",
            "313/313 [==============================] - 13s 42ms/step - loss: 0.4681 - accuracy: 0.7891 - val_loss: 0.4855 - val_accuracy: 0.7734\n",
            "Epoch 13/100\n",
            "313/313 [==============================] - 14s 43ms/step - loss: 0.4620 - accuracy: 0.7939 - val_loss: 0.4776 - val_accuracy: 0.7768\n",
            "Epoch 14/100\n",
            "313/313 [==============================] - 13s 43ms/step - loss: 0.4573 - accuracy: 0.7950 - val_loss: 0.4710 - val_accuracy: 0.7798\n",
            "Epoch 15/100\n",
            "313/313 [==============================] - 13s 42ms/step - loss: 0.4527 - accuracy: 0.7967 - val_loss: 0.4681 - val_accuracy: 0.7844\n",
            "Epoch 16/100\n",
            "313/313 [==============================] - 13s 43ms/step - loss: 0.4481 - accuracy: 0.7990 - val_loss: 0.4675 - val_accuracy: 0.7814\n",
            "Epoch 17/100\n",
            "313/313 [==============================] - 13s 42ms/step - loss: 0.4445 - accuracy: 0.8005 - val_loss: 0.4642 - val_accuracy: 0.7854\n",
            "Epoch 18/100\n",
            "313/313 [==============================] - 14s 45ms/step - loss: 0.4408 - accuracy: 0.8036 - val_loss: 0.4597 - val_accuracy: 0.7928\n",
            "Epoch 19/100\n",
            "313/313 [==============================] - 13s 42ms/step - loss: 0.4378 - accuracy: 0.8045 - val_loss: 0.4584 - val_accuracy: 0.7886\n",
            "Epoch 20/100\n",
            "313/313 [==============================] - 13s 42ms/step - loss: 0.4349 - accuracy: 0.8067 - val_loss: 0.4551 - val_accuracy: 0.7888\n",
            "Epoch 21/100\n",
            "313/313 [==============================] - 14s 44ms/step - loss: 0.4321 - accuracy: 0.8084 - val_loss: 0.4547 - val_accuracy: 0.7928\n",
            "Epoch 22/100\n",
            "313/313 [==============================] - 13s 42ms/step - loss: 0.4295 - accuracy: 0.8079 - val_loss: 0.4550 - val_accuracy: 0.7912\n",
            "Epoch 23/100\n",
            "313/313 [==============================] - 13s 41ms/step - loss: 0.4268 - accuracy: 0.8104 - val_loss: 0.4523 - val_accuracy: 0.7936\n",
            "Epoch 24/100\n",
            "313/313 [==============================] - 13s 42ms/step - loss: 0.4253 - accuracy: 0.8105 - val_loss: 0.4519 - val_accuracy: 0.7910\n",
            "Epoch 25/100\n",
            "313/313 [==============================] - 13s 42ms/step - loss: 0.4229 - accuracy: 0.8102 - val_loss: 0.4496 - val_accuracy: 0.7958\n",
            "Epoch 26/100\n",
            "313/313 [==============================] - 13s 42ms/step - loss: 0.4212 - accuracy: 0.8123 - val_loss: 0.4516 - val_accuracy: 0.7930\n",
            "Epoch 27/100\n",
            "313/313 [==============================] - 13s 41ms/step - loss: 0.4198 - accuracy: 0.8123 - val_loss: 0.4481 - val_accuracy: 0.7950\n",
            "Epoch 28/100\n",
            "313/313 [==============================] - 13s 42ms/step - loss: 0.4175 - accuracy: 0.8156 - val_loss: 0.4485 - val_accuracy: 0.7932\n",
            "Epoch 29/100\n",
            "313/313 [==============================] - 13s 42ms/step - loss: 0.4156 - accuracy: 0.8156 - val_loss: 0.4517 - val_accuracy: 0.7912\n",
            "Epoch 30/100\n",
            "313/313 [==============================] - 13s 42ms/step - loss: 0.4153 - accuracy: 0.8151 - val_loss: 0.4466 - val_accuracy: 0.7952\n",
            "Epoch 31/100\n",
            "313/313 [==============================] - 13s 42ms/step - loss: 0.4137 - accuracy: 0.8157 - val_loss: 0.4464 - val_accuracy: 0.7954\n",
            "Epoch 32/100\n",
            "313/313 [==============================] - 13s 42ms/step - loss: 0.4122 - accuracy: 0.8157 - val_loss: 0.4467 - val_accuracy: 0.7948\n",
            "Epoch 33/100\n",
            "313/313 [==============================] - 14s 43ms/step - loss: 0.4110 - accuracy: 0.8152 - val_loss: 0.4531 - val_accuracy: 0.7910\n",
            "Epoch 34/100\n",
            "313/313 [==============================] - 14s 44ms/step - loss: 0.4098 - accuracy: 0.8171 - val_loss: 0.4478 - val_accuracy: 0.7934\n"
          ]
        }
      ]
    },
    {
      "cell_type": "code",
      "source": [
        "plt.plot(history.history['loss'])\n",
        "plt.plot(history.history['val_loss'])\n",
        "plt.xlabel('epoch')\n",
        "plt.ylabel('loss')\n",
        "plt.legend(['train', 'val'])\n",
        "plt.show()"
      ],
      "metadata": {
        "colab": {
          "base_uri": "https://localhost:8080/",
          "height": 279
        },
        "id": "CRy3okIvtGYY",
        "outputId": "4b604e3e-fd54-4ed2-96cc-073f5849b012"
      },
      "execution_count": 30,
      "outputs": [
        {
          "output_type": "display_data",
          "data": {
            "image/png": "[encoded data removed]",
            "text/plain": [
              "<Figure size 432x288 with 1 Axes>"
            ]
          },
          "metadata": {
            "needs_background": "light"
          }
        }
      ]
    },
    {
      "cell_type": "code",
      "source": [
        "model2 = keras.Sequential()\n",
        "model2.add(keras.layers.Embedding(500, 16, input_length=100))\n",
        "model2.add(SimpleRNN(8))\n",
        "model2.add(Dense(1, activation='sigmoid'))"
      ],
      "metadata": {
        "id": "VdbDZQVzv3Pz"
      },
      "execution_count": 31,
      "outputs": []
    },
    {
      "cell_type": "code",
      "source": [
        "model2.summary()"
      ],
      "metadata": {
        "colab": {
          "base_uri": "https://localhost:8080/"
        },
        "id": "Cw9bYWBewrP9",
        "outputId": "b24d1136-6f09-463b-9e68-c93cdf340655"
      },
      "execution_count": 32,
      "outputs": [
        {
          "output_type": "stream",
          "name": "stdout",
          "text": [
            "Model: \"sequential_1\"\n",
            "_________________________________________________________________\n",
            " Layer (type)                Output Shape              Param #   \n",
            "=================================================================\n",
            " embedding (Embedding)       (None, 100, 16)           8000      \n",
            "                                                                 \n",
            " simple_rnn_1 (SimpleRNN)    (None, 8)                 200       \n",
            "                                                                 \n",
            " dense_1 (Dense)             (None, 1)                 9         \n",
            "                                                                 \n",
            "=================================================================\n",
            "Total params: 8,209\n",
            "Trainable params: 8,209\n",
            "Non-trainable params: 0\n",
            "_________________________________________________________________\n"
          ]
        }
      ]
    },
    {
      "cell_type": "code",
      "source": [
        "rmsprop = keras.optimizers.RMSprop(learning_rate=1e-4)\n",
        "model2.compile(optimizer=rmsprop, loss='binary_crossentropy', metrics=['accuracy'])\n",
        "checkpoint_cb = keras.callbacks.ModelCheckpoint('best-embedding-model.h5', save_best_only=True)\n",
        "early_stopping_cb = keras.callbacks.EarlyStopping(patience=3, restore_best_weights=True)\n",
        "\n",
        "history = model2.fit(train_seq, train_target, epochs=100, batch_size=64, validation_data=(val_seq, val_target), callbacks=[checkpoint_cb, early_stopping_cb])"
      ],
      "metadata": {
        "colab": {
          "base_uri": "https://localhost:8080/"
        },
        "id": "iRI2WhWhws2X",
        "outputId": "affdea8f-341c-42fd-9f0e-02f0686cc06c"
      },
      "execution_count": 33,
      "outputs": [
        {
          "output_type": "stream",
          "name": "stdout",
          "text": [
            "Epoch 1/100\n",
            "313/313 [==============================] - 18s 51ms/step - loss: 0.6945 - accuracy: 0.5055 - val_loss: 0.6930 - val_accuracy: 0.5122\n",
            "Epoch 2/100\n",
            "313/313 [==============================] - 15s 49ms/step - loss: 0.6915 - accuracy: 0.5221 - val_loss: 0.6922 - val_accuracy: 0.5164\n",
            "Epoch 3/100\n",
            "313/313 [==============================] - 8s 27ms/step - loss: 0.6890 - accuracy: 0.5381 - val_loss: 0.6922 - val_accuracy: 0.5168\n",
            "Epoch 4/100\n",
            "313/313 [==============================] - 7s 24ms/step - loss: 0.6860 - accuracy: 0.5559 - val_loss: 0.6905 - val_accuracy: 0.5338\n",
            "Epoch 5/100\n",
            "313/313 [==============================] - 8s 24ms/step - loss: 0.6773 - accuracy: 0.6059 - val_loss: 0.6754 - val_accuracy: 0.6114\n",
            "Epoch 6/100\n",
            "313/313 [==============================] - 8s 24ms/step - loss: 0.6587 - accuracy: 0.6693 - val_loss: 0.6556 - val_accuracy: 0.6686\n",
            "Epoch 7/100\n",
            "313/313 [==============================] - 7s 24ms/step - loss: 0.6366 - accuracy: 0.7050 - val_loss: 0.6361 - val_accuracy: 0.6910\n",
            "Epoch 8/100\n",
            "313/313 [==============================] - 8s 25ms/step - loss: 0.6140 - accuracy: 0.7280 - val_loss: 0.6137 - val_accuracy: 0.7180\n",
            "Epoch 9/100\n",
            "313/313 [==============================] - 8s 24ms/step - loss: 0.5922 - accuracy: 0.7458 - val_loss: 0.5966 - val_accuracy: 0.7224\n",
            "Epoch 10/100\n",
            "313/313 [==============================] - 8s 24ms/step - loss: 0.5727 - accuracy: 0.7544 - val_loss: 0.5787 - val_accuracy: 0.7418\n",
            "Epoch 11/100\n",
            "313/313 [==============================] - 8s 27ms/step - loss: 0.5532 - accuracy: 0.7689 - val_loss: 0.5595 - val_accuracy: 0.7566\n",
            "Epoch 12/100\n",
            "313/313 [==============================] - 7s 23ms/step - loss: 0.5356 - accuracy: 0.7788 - val_loss: 0.5461 - val_accuracy: 0.7568\n",
            "Epoch 13/100\n",
            "313/313 [==============================] - 7s 24ms/step - loss: 0.5187 - accuracy: 0.7851 - val_loss: 0.5308 - val_accuracy: 0.7646\n",
            "Epoch 14/100\n",
            "313/313 [==============================] - 8s 25ms/step - loss: 0.5035 - accuracy: 0.7912 - val_loss: 0.5194 - val_accuracy: 0.7730\n",
            "Epoch 15/100\n",
            "313/313 [==============================] - 7s 23ms/step - loss: 0.4894 - accuracy: 0.7990 - val_loss: 0.5100 - val_accuracy: 0.7704\n",
            "Epoch 16/100\n",
            "313/313 [==============================] - 8s 24ms/step - loss: 0.4765 - accuracy: 0.8036 - val_loss: 0.4980 - val_accuracy: 0.7750\n",
            "Epoch 17/100\n",
            "313/313 [==============================] - 7s 23ms/step - loss: 0.4654 - accuracy: 0.8094 - val_loss: 0.4900 - val_accuracy: 0.7786\n",
            "Epoch 18/100\n",
            "313/313 [==============================] - 7s 24ms/step - loss: 0.4547 - accuracy: 0.8121 - val_loss: 0.4879 - val_accuracy: 0.7794\n",
            "Epoch 19/100\n",
            "313/313 [==============================] - 8s 24ms/step - loss: 0.4456 - accuracy: 0.8148 - val_loss: 0.4781 - val_accuracy: 0.7822\n",
            "Epoch 20/100\n",
            "313/313 [==============================] - 8s 24ms/step - loss: 0.4374 - accuracy: 0.8179 - val_loss: 0.4729 - val_accuracy: 0.7886\n",
            "Epoch 21/100\n",
            "313/313 [==============================] - 8s 24ms/step - loss: 0.4306 - accuracy: 0.8205 - val_loss: 0.4721 - val_accuracy: 0.7856\n",
            "Epoch 22/100\n",
            "313/313 [==============================] - 7s 24ms/step - loss: 0.4249 - accuracy: 0.8209 - val_loss: 0.4671 - val_accuracy: 0.7874\n",
            "Epoch 23/100\n",
            "313/313 [==============================] - 7s 24ms/step - loss: 0.4196 - accuracy: 0.8216 - val_loss: 0.4650 - val_accuracy: 0.7904\n",
            "Epoch 24/100\n",
            "313/313 [==============================] - 7s 24ms/step - loss: 0.4146 - accuracy: 0.8245 - val_loss: 0.4624 - val_accuracy: 0.7916\n",
            "Epoch 25/100\n",
            "313/313 [==============================] - 8s 25ms/step - loss: 0.4108 - accuracy: 0.8243 - val_loss: 0.4610 - val_accuracy: 0.7858\n",
            "Epoch 26/100\n",
            "313/313 [==============================] - 7s 24ms/step - loss: 0.4079 - accuracy: 0.8270 - val_loss: 0.4619 - val_accuracy: 0.7870\n",
            "Epoch 27/100\n",
            "313/313 [==============================] - 7s 23ms/step - loss: 0.4040 - accuracy: 0.8285 - val_loss: 0.4726 - val_accuracy: 0.7776\n",
            "Epoch 28/100\n",
            "313/313 [==============================] - 8s 24ms/step - loss: 0.4011 - accuracy: 0.8284 - val_loss: 0.4579 - val_accuracy: 0.7878\n",
            "Epoch 29/100\n",
            "313/313 [==============================] - 7s 24ms/step - loss: 0.3991 - accuracy: 0.8289 - val_loss: 0.4607 - val_accuracy: 0.7856\n",
            "Epoch 30/100\n",
            "313/313 [==============================] - 8s 24ms/step - loss: 0.3970 - accuracy: 0.8314 - val_loss: 0.4630 - val_accuracy: 0.7870\n",
            "Epoch 31/100\n",
            "313/313 [==============================] - 8s 24ms/step - loss: 0.3949 - accuracy: 0.8312 - val_loss: 0.4613 - val_accuracy: 0.7870\n"
          ]
        }
      ]
    },
    {
      "cell_type": "code",
      "source": [
        "plt.plot(history.history['loss'])\n",
        "plt.plot(history.history['val_loss'])\n",
        "plt.xlabel('epoch')\n",
        "plt.ylabel('loss')\n",
        "plt.legend(['train', 'val'])\n",
        "plt.show()"
      ],
      "metadata": {
        "colab": {
          "base_uri": "https://localhost:8080/",
          "height": 279
        },
        "id": "ct-rpop4yQiq",
        "outputId": "51388391-b3ca-460a-d9b0-719288354af5"
      },
      "execution_count": 34,
      "outputs": [
        {
          "output_type": "display_data",
          "data": {
            "image/png": "[encoded data removed]",
            "text/plain": [
              "<Figure size 432x288 with 1 Axes>"
            ]
          },
          "metadata": {
            "needs_background": "light"
          }
        }
      ]
    },
    {
      "cell_type": "markdown",
      "source": [
        "# LSTM과 GRU 셀"
      ],
      "metadata": {
        "id": "As1QC9vMzy0S"
      }
    },
    {
      "cell_type": "code",
      "source": [
        "(train_input, train_target), (test_input, test_target) = imdb.load_data(num_words=500)\n",
        "train_input, val_input, train_target, val_target = train_test_split(train_input, train_target, test_size=0.2, random_state=42)"
      ],
      "metadata": {
        "id": "Wj111B-oz3ra"
      },
      "execution_count": 36,
      "outputs": []
    },
    {
      "cell_type": "code",
      "source": [
        "train_seq = pad_sequences(train_input, maxlen=100)\n",
        "val_seq = pad_sequences(val_input, maxlen=100)"
      ],
      "metadata": {
        "id": "Yn5D26odBLvL"
      },
      "execution_count": 37,
      "outputs": []
    },
    {
      "cell_type": "code",
      "source": [
        "model = keras.Sequential()\n",
        "model.add(keras.layers.Embedding(500, 16, input_length=100))\n",
        "model.add(keras.layers.LSTM(8))\n",
        "model.add(Dense(1, activation='sigmoid'))"
      ],
      "metadata": {
        "id": "02VWZsjOBgEm"
      },
      "execution_count": 40,
      "outputs": []
    },
    {
      "cell_type": "code",
      "source": [
        "rmsprop = keras.optimizers.RMSprop(1e-4)\n",
        "\n",
        "model.compile(optimizer=rmsprop, loss='binary_crossentropy', metrics=['accuracy'])\n",
        "\n",
        "checkpoint_cb = keras.callbacks.ModelCheckpoint('best-lstm-model.h5', save_best_only=True)\n",
        "early_stopping_cb = keras.callbacks.EarlyStopping(patience=3, restore_best_weights=True)\n",
        "\n",
        "history = model.fit(train_seq, train_target, epochs=100, batch_size=64, validation_data=(val_seq, val_target), callbacks=[checkpoint_cb, early_stopping_cb])"
      ],
      "metadata": {
        "colab": {
          "base_uri": "https://localhost:8080/"
        },
        "id": "QP0f9SvCCWXz",
        "outputId": "be9b3e0b-e6d5-4ee4-c8e6-b22a2dec09c0"
      },
      "execution_count": 41,
      "outputs": [
        {
          "output_type": "stream",
          "name": "stdout",
          "text": [
            "Epoch 1/100\n",
            "313/313 [==============================] - 25s 67ms/step - loss: 0.6925 - accuracy: 0.5434 - val_loss: 0.6917 - val_accuracy: 0.5788\n",
            "Epoch 2/100\n",
            "313/313 [==============================] - 13s 43ms/step - loss: 0.6903 - accuracy: 0.6075 - val_loss: 0.6885 - val_accuracy: 0.6320\n",
            "Epoch 3/100\n",
            "313/313 [==============================] - 13s 43ms/step - loss: 0.6847 - accuracy: 0.6439 - val_loss: 0.6799 - val_accuracy: 0.6516\n",
            "Epoch 4/100\n",
            "313/313 [==============================] - 14s 45ms/step - loss: 0.6631 - accuracy: 0.6726 - val_loss: 0.6365 - val_accuracy: 0.6924\n",
            "Epoch 5/100\n",
            "313/313 [==============================] - 14s 44ms/step - loss: 0.6044 - accuracy: 0.7172 - val_loss: 0.5936 - val_accuracy: 0.7190\n",
            "Epoch 6/100\n",
            "313/313 [==============================] - 14s 45ms/step - loss: 0.5761 - accuracy: 0.7343 - val_loss: 0.5719 - val_accuracy: 0.7290\n",
            "Epoch 7/100\n",
            "313/313 [==============================] - 14s 45ms/step - loss: 0.5550 - accuracy: 0.7495 - val_loss: 0.5519 - val_accuracy: 0.7428\n",
            "Epoch 8/100\n",
            "313/313 [==============================] - 17s 56ms/step - loss: 0.5352 - accuracy: 0.7613 - val_loss: 0.5328 - val_accuracy: 0.7574\n",
            "Epoch 9/100\n",
            "313/313 [==============================] - 22s 71ms/step - loss: 0.5169 - accuracy: 0.7729 - val_loss: 0.5159 - val_accuracy: 0.7682\n",
            "Epoch 10/100\n",
            "313/313 [==============================] - 15s 47ms/step - loss: 0.5003 - accuracy: 0.7822 - val_loss: 0.5027 - val_accuracy: 0.7740\n",
            "Epoch 11/100\n",
            "313/313 [==============================] - 14s 44ms/step - loss: 0.4863 - accuracy: 0.7875 - val_loss: 0.4910 - val_accuracy: 0.7796\n",
            "Epoch 12/100\n",
            "313/313 [==============================] - 14s 43ms/step - loss: 0.4738 - accuracy: 0.7939 - val_loss: 0.4833 - val_accuracy: 0.7798\n",
            "Epoch 13/100\n",
            "313/313 [==============================] - 13s 42ms/step - loss: 0.4643 - accuracy: 0.7997 - val_loss: 0.4736 - val_accuracy: 0.7872\n",
            "Epoch 14/100\n",
            "313/313 [==============================] - 13s 43ms/step - loss: 0.4566 - accuracy: 0.8001 - val_loss: 0.4686 - val_accuracy: 0.7870\n",
            "Epoch 15/100\n",
            "313/313 [==============================] - 14s 43ms/step - loss: 0.4500 - accuracy: 0.8041 - val_loss: 0.4658 - val_accuracy: 0.7862\n",
            "Epoch 16/100\n",
            "313/313 [==============================] - 14s 46ms/step - loss: 0.4448 - accuracy: 0.8063 - val_loss: 0.4596 - val_accuracy: 0.7902\n",
            "Epoch 17/100\n",
            "313/313 [==============================] - 13s 43ms/step - loss: 0.4404 - accuracy: 0.8080 - val_loss: 0.4552 - val_accuracy: 0.7924\n",
            "Epoch 18/100\n",
            "313/313 [==============================] - 13s 43ms/step - loss: 0.4363 - accuracy: 0.8093 - val_loss: 0.4531 - val_accuracy: 0.7916\n",
            "Epoch 19/100\n",
            "313/313 [==============================] - 13s 43ms/step - loss: 0.4330 - accuracy: 0.8093 - val_loss: 0.4505 - val_accuracy: 0.7928\n",
            "Epoch 20/100\n",
            "313/313 [==============================] - 14s 44ms/step - loss: 0.4295 - accuracy: 0.8126 - val_loss: 0.4490 - val_accuracy: 0.7954\n",
            "Epoch 21/100\n",
            "313/313 [==============================] - 14s 44ms/step - loss: 0.4272 - accuracy: 0.8116 - val_loss: 0.4471 - val_accuracy: 0.7934\n",
            "Epoch 22/100\n",
            "313/313 [==============================] - 14s 43ms/step - loss: 0.4248 - accuracy: 0.8131 - val_loss: 0.4470 - val_accuracy: 0.7952\n",
            "Epoch 23/100\n",
            "313/313 [==============================] - 14s 44ms/step - loss: 0.4223 - accuracy: 0.8121 - val_loss: 0.4472 - val_accuracy: 0.7924\n",
            "Epoch 24/100\n",
            "313/313 [==============================] - 14s 43ms/step - loss: 0.4206 - accuracy: 0.8145 - val_loss: 0.4430 - val_accuracy: 0.7942\n",
            "Epoch 25/100\n",
            "313/313 [==============================] - 14s 45ms/step - loss: 0.4189 - accuracy: 0.8138 - val_loss: 0.4413 - val_accuracy: 0.7948\n",
            "Epoch 26/100\n",
            "313/313 [==============================] - 14s 43ms/step - loss: 0.4176 - accuracy: 0.8157 - val_loss: 0.4398 - val_accuracy: 0.7994\n",
            "Epoch 27/100\n",
            "313/313 [==============================] - 13s 43ms/step - loss: 0.4159 - accuracy: 0.8152 - val_loss: 0.4405 - val_accuracy: 0.7940\n",
            "Epoch 28/100\n",
            "313/313 [==============================] - 14s 44ms/step - loss: 0.4149 - accuracy: 0.8144 - val_loss: 0.4431 - val_accuracy: 0.7896\n",
            "Epoch 29/100\n",
            "313/313 [==============================] - 14s 45ms/step - loss: 0.4132 - accuracy: 0.8151 - val_loss: 0.4362 - val_accuracy: 0.8004\n",
            "Epoch 30/100\n",
            "313/313 [==============================] - 14s 44ms/step - loss: 0.4123 - accuracy: 0.8153 - val_loss: 0.4377 - val_accuracy: 0.8026\n",
            "Epoch 31/100\n",
            "313/313 [==============================] - 13s 43ms/step - loss: 0.4113 - accuracy: 0.8176 - val_loss: 0.4361 - val_accuracy: 0.7970\n",
            "Epoch 32/100\n",
            "313/313 [==============================] - 13s 43ms/step - loss: 0.4100 - accuracy: 0.8160 - val_loss: 0.4353 - val_accuracy: 0.8030\n",
            "Epoch 33/100\n",
            "313/313 [==============================] - 13s 43ms/step - loss: 0.4089 - accuracy: 0.8181 - val_loss: 0.4337 - val_accuracy: 0.8014\n",
            "Epoch 34/100\n",
            "313/313 [==============================] - 14s 46ms/step - loss: 0.4083 - accuracy: 0.8175 - val_loss: 0.4328 - val_accuracy: 0.8014\n",
            "Epoch 35/100\n",
            "313/313 [==============================] - 14s 45ms/step - loss: 0.4073 - accuracy: 0.8176 - val_loss: 0.4332 - val_accuracy: 0.8024\n",
            "Epoch 36/100\n",
            "313/313 [==============================] - 16s 51ms/step - loss: 0.4066 - accuracy: 0.8167 - val_loss: 0.4349 - val_accuracy: 0.8014\n",
            "Epoch 37/100\n",
            "313/313 [==============================] - 14s 44ms/step - loss: 0.4055 - accuracy: 0.8189 - val_loss: 0.4340 - val_accuracy: 0.7994\n"
          ]
        }
      ]
    },
    {
      "cell_type": "code",
      "source": [
        "plt.plot(history.history['loss'])\n",
        "plt.plot(history.history['val_loss'])\n",
        "plt.xlabel('epoch')\n",
        "plt.ylabel('loss')\n",
        "plt.legend(['train', 'val'])\n",
        "plt.show()"
      ],
      "metadata": {
        "colab": {
          "base_uri": "https://localhost:8080/",
          "height": 279
        },
        "id": "2968jkeeDtvg",
        "outputId": "827009d2-1bfb-48c4-8e90-c0022a31ea3a"
      },
      "execution_count": 42,
      "outputs": [
        {
          "output_type": "display_data",
          "data": {
            "image/png": "[encoded data removed]",
            "text/plain": [
              "<Figure size 432x288 with 1 Axes>"
            ]
          },
          "metadata": {
            "needs_background": "light"
          }
        }
      ]
    },
    {
      "cell_type": "code",
      "source": [
        "model = keras.Sequential()\n",
        "model.add(keras.layers.Embedding(500, 16, input_length=100))\n",
        "model.add(keras.layers.LSTM(8, dropout=0.3))\n",
        "model.add(Dense(1, activation='sigmoid'))"
      ],
      "metadata": {
        "id": "rc5-RZL6ELKS"
      },
      "execution_count": 43,
      "outputs": []
    },
    {
      "cell_type": "code",
      "source": [
        "rmsprop = keras.optimizers.RMSprop(1e-4)\n",
        "\n",
        "model.compile(optimizer=rmsprop, loss='binary_crossentropy', metrics=['accuracy'])\n",
        "\n",
        "checkpoint_cb = keras.callbacks.ModelCheckpoint('best-lstm-model.h5', save_best_only=True)\n",
        "early_stopping_cb = keras.callbacks.EarlyStopping(patience=3, restore_best_weights=True)\n",
        "\n",
        "history = model.fit(train_seq, train_target, epochs=100, batch_size=64, validation_data=(val_seq, val_target), callbacks=[checkpoint_cb, early_stopping_cb])"
      ],
      "metadata": {
        "colab": {
          "base_uri": "https://localhost:8080/"
        },
        "id": "rZAZDIwvEQ8o",
        "outputId": "0e713744-5c51-4373-fb02-0cf0a5bb8e8b"
      },
      "execution_count": 44,
      "outputs": [
        {
          "output_type": "stream",
          "name": "stdout",
          "text": [
            "Epoch 1/100\n",
            "313/313 [==============================] - 19s 46ms/step - loss: 0.6925 - accuracy: 0.5408 - val_loss: 0.6917 - val_accuracy: 0.5776\n",
            "Epoch 2/100\n",
            "313/313 [==============================] - 14s 44ms/step - loss: 0.6904 - accuracy: 0.5997 - val_loss: 0.6887 - val_accuracy: 0.6332\n",
            "Epoch 3/100\n",
            "313/313 [==============================] - 14s 45ms/step - loss: 0.6854 - accuracy: 0.6499 - val_loss: 0.6810 - val_accuracy: 0.6596\n",
            "Epoch 4/100\n",
            "313/313 [==============================] - 14s 45ms/step - loss: 0.6700 - accuracy: 0.6633 - val_loss: 0.6481 - val_accuracy: 0.6754\n",
            "Epoch 5/100\n",
            "313/313 [==============================] - 14s 44ms/step - loss: 0.6129 - accuracy: 0.7155 - val_loss: 0.5846 - val_accuracy: 0.7320\n",
            "Epoch 6/100\n",
            "313/313 [==============================] - 14s 44ms/step - loss: 0.5722 - accuracy: 0.7358 - val_loss: 0.5587 - val_accuracy: 0.7390\n",
            "Epoch 7/100\n",
            "313/313 [==============================] - 14s 44ms/step - loss: 0.5462 - accuracy: 0.7434 - val_loss: 0.5348 - val_accuracy: 0.7574\n",
            "Epoch 8/100\n",
            "313/313 [==============================] - 14s 45ms/step - loss: 0.5230 - accuracy: 0.7578 - val_loss: 0.5159 - val_accuracy: 0.7590\n",
            "Epoch 9/100\n",
            "313/313 [==============================] - 14s 44ms/step - loss: 0.5026 - accuracy: 0.7692 - val_loss: 0.4956 - val_accuracy: 0.7696\n",
            "Epoch 10/100\n",
            "313/313 [==============================] - 14s 43ms/step - loss: 0.4853 - accuracy: 0.7793 - val_loss: 0.4816 - val_accuracy: 0.7766\n",
            "Epoch 11/100\n",
            "313/313 [==============================] - 14s 43ms/step - loss: 0.4728 - accuracy: 0.7841 - val_loss: 0.4718 - val_accuracy: 0.7840\n",
            "Epoch 12/100\n",
            "313/313 [==============================] - 14s 44ms/step - loss: 0.4629 - accuracy: 0.7888 - val_loss: 0.4633 - val_accuracy: 0.7866\n",
            "Epoch 13/100\n",
            "313/313 [==============================] - 14s 44ms/step - loss: 0.4553 - accuracy: 0.7934 - val_loss: 0.4570 - val_accuracy: 0.7902\n",
            "Epoch 14/100\n",
            "313/313 [==============================] - 14s 46ms/step - loss: 0.4487 - accuracy: 0.7977 - val_loss: 0.4516 - val_accuracy: 0.7924\n",
            "Epoch 15/100\n",
            "313/313 [==============================] - 14s 45ms/step - loss: 0.4440 - accuracy: 0.7988 - val_loss: 0.4481 - val_accuracy: 0.7924\n",
            "Epoch 16/100\n",
            "313/313 [==============================] - 14s 45ms/step - loss: 0.4395 - accuracy: 0.8026 - val_loss: 0.4454 - val_accuracy: 0.7954\n",
            "Epoch 17/100\n",
            "313/313 [==============================] - 14s 45ms/step - loss: 0.4364 - accuracy: 0.8061 - val_loss: 0.4443 - val_accuracy: 0.7964\n",
            "Epoch 18/100\n",
            "313/313 [==============================] - 14s 46ms/step - loss: 0.4325 - accuracy: 0.8008 - val_loss: 0.4415 - val_accuracy: 0.7968\n",
            "Epoch 19/100\n",
            "313/313 [==============================] - 15s 47ms/step - loss: 0.4322 - accuracy: 0.8038 - val_loss: 0.4390 - val_accuracy: 0.7982\n",
            "Epoch 20/100\n",
            "313/313 [==============================] - 14s 46ms/step - loss: 0.4284 - accuracy: 0.8056 - val_loss: 0.4384 - val_accuracy: 0.7960\n",
            "Epoch 21/100\n",
            "313/313 [==============================] - 14s 46ms/step - loss: 0.4274 - accuracy: 0.8042 - val_loss: 0.4368 - val_accuracy: 0.8002\n",
            "Epoch 22/100\n",
            "313/313 [==============================] - 15s 48ms/step - loss: 0.4255 - accuracy: 0.8072 - val_loss: 0.4359 - val_accuracy: 0.8026\n",
            "Epoch 23/100\n",
            "313/313 [==============================] - 15s 47ms/step - loss: 0.4231 - accuracy: 0.8087 - val_loss: 0.4348 - val_accuracy: 0.8014\n",
            "Epoch 24/100\n",
            "313/313 [==============================] - 15s 47ms/step - loss: 0.4241 - accuracy: 0.8062 - val_loss: 0.4361 - val_accuracy: 0.8016\n",
            "Epoch 25/100\n",
            "313/313 [==============================] - 14s 46ms/step - loss: 0.4233 - accuracy: 0.8069 - val_loss: 0.4337 - val_accuracy: 0.7992\n",
            "Epoch 26/100\n",
            "313/313 [==============================] - 15s 47ms/step - loss: 0.4217 - accuracy: 0.8100 - val_loss: 0.4406 - val_accuracy: 0.7916\n",
            "Epoch 27/100\n",
            "313/313 [==============================] - 15s 48ms/step - loss: 0.4192 - accuracy: 0.8088 - val_loss: 0.4341 - val_accuracy: 0.8036\n",
            "Epoch 28/100\n",
            "313/313 [==============================] - 15s 48ms/step - loss: 0.4199 - accuracy: 0.8105 - val_loss: 0.4321 - val_accuracy: 0.7996\n",
            "Epoch 29/100\n",
            "313/313 [==============================] - 15s 48ms/step - loss: 0.4185 - accuracy: 0.8091 - val_loss: 0.4325 - val_accuracy: 0.7988\n",
            "Epoch 30/100\n",
            "313/313 [==============================] - 15s 47ms/step - loss: 0.4187 - accuracy: 0.8084 - val_loss: 0.4311 - val_accuracy: 0.8026\n",
            "Epoch 31/100\n",
            "313/313 [==============================] - 15s 49ms/step - loss: 0.4161 - accuracy: 0.8119 - val_loss: 0.4309 - val_accuracy: 0.8034\n",
            "Epoch 32/100\n",
            "313/313 [==============================] - 15s 48ms/step - loss: 0.4158 - accuracy: 0.8116 - val_loss: 0.4309 - val_accuracy: 0.7996\n",
            "Epoch 33/100\n",
            "313/313 [==============================] - 15s 49ms/step - loss: 0.4146 - accuracy: 0.8099 - val_loss: 0.4305 - val_accuracy: 0.8036\n",
            "Epoch 34/100\n",
            "313/313 [==============================] - 15s 49ms/step - loss: 0.4156 - accuracy: 0.8102 - val_loss: 0.4303 - val_accuracy: 0.8052\n",
            "Epoch 35/100\n",
            "313/313 [==============================] - 15s 49ms/step - loss: 0.4158 - accuracy: 0.8112 - val_loss: 0.4296 - val_accuracy: 0.8020\n",
            "Epoch 36/100\n",
            "313/313 [==============================] - 15s 49ms/step - loss: 0.4139 - accuracy: 0.8098 - val_loss: 0.4293 - val_accuracy: 0.8030\n",
            "Epoch 37/100\n",
            "313/313 [==============================] - 15s 49ms/step - loss: 0.4105 - accuracy: 0.8123 - val_loss: 0.4308 - val_accuracy: 0.8052\n",
            "Epoch 38/100\n",
            "313/313 [==============================] - 16s 50ms/step - loss: 0.4121 - accuracy: 0.8127 - val_loss: 0.4289 - val_accuracy: 0.8022\n",
            "Epoch 39/100\n",
            "313/313 [==============================] - 15s 48ms/step - loss: 0.4112 - accuracy: 0.8120 - val_loss: 0.4292 - val_accuracy: 0.8022\n",
            "Epoch 40/100\n",
            "313/313 [==============================] - 16s 50ms/step - loss: 0.4124 - accuracy: 0.8106 - val_loss: 0.4298 - val_accuracy: 0.8002\n",
            "Epoch 41/100\n",
            "313/313 [==============================] - 15s 48ms/step - loss: 0.4122 - accuracy: 0.8113 - val_loss: 0.4284 - val_accuracy: 0.8010\n",
            "Epoch 42/100\n",
            "313/313 [==============================] - 15s 49ms/step - loss: 0.4111 - accuracy: 0.8133 - val_loss: 0.4276 - val_accuracy: 0.8034\n",
            "Epoch 43/100\n",
            "313/313 [==============================] - 16s 50ms/step - loss: 0.4106 - accuracy: 0.8116 - val_loss: 0.4274 - val_accuracy: 0.8058\n",
            "Epoch 44/100\n",
            "313/313 [==============================] - 15s 49ms/step - loss: 0.4091 - accuracy: 0.8141 - val_loss: 0.4271 - val_accuracy: 0.8046\n",
            "Epoch 45/100\n",
            "313/313 [==============================] - 15s 48ms/step - loss: 0.4070 - accuracy: 0.8160 - val_loss: 0.4300 - val_accuracy: 0.7978\n",
            "Epoch 46/100\n",
            "313/313 [==============================] - 15s 48ms/step - loss: 0.4091 - accuracy: 0.8130 - val_loss: 0.4330 - val_accuracy: 0.8044\n",
            "Epoch 47/100\n",
            "313/313 [==============================] - 15s 50ms/step - loss: 0.4082 - accuracy: 0.8131 - val_loss: 0.4280 - val_accuracy: 0.8056\n"
          ]
        }
      ]
    },
    {
      "cell_type": "code",
      "source": [
        "plt.plot(history.history['loss'])\n",
        "plt.plot(history.history['val_loss'])\n",
        "plt.xlabel('epoch')\n",
        "plt.ylabel('loss')\n",
        "plt.legend(['train', 'val'])\n",
        "plt.show()"
      ],
      "metadata": {
        "colab": {
          "base_uri": "https://localhost:8080/",
          "height": 279
        },
        "id": "GhoZNHryEUQQ",
        "outputId": "8bab9c06-6d90-4cbe-dea2-a6300ddeb81b"
      },
      "execution_count": 45,
      "outputs": [
        {
          "output_type": "display_data",
          "data": {
            "image/png": "[encoded data removed]",
            "text/plain": [
              "<Figure size 432x288 with 1 Axes>"
            ]
          },
          "metadata": {
            "needs_background": "light"
          }
        }
      ]
    },
    {
      "cell_type": "code",
      "source": [
        "model3 = keras.Sequential()\n",
        "model3.add(keras.layers.Embedding(500, 16, input_length=100))\n",
        "model3.add(keras.layers.LSTM(8, dropout=0.3, return_sequences=True))\n",
        "model3.add(keras.layers.LSTM(8, dropout=0.3))\n",
        "model3.add(Dense(1, activation='sigmoid'))"
      ],
      "metadata": {
        "id": "sjGl_wa9I5HG"
      },
      "execution_count": 48,
      "outputs": []
    },
    {
      "cell_type": "code",
      "source": [
        "model3.summary()"
      ],
      "metadata": {
        "colab": {
          "base_uri": "https://localhost:8080/"
        },
        "id": "F581aS6YJKYL",
        "outputId": "24257c54-9ac5-4d9b-a66d-b3e270d5bac5"
      },
      "execution_count": 49,
      "outputs": [
        {
          "output_type": "stream",
          "name": "stdout",
          "text": [
            "Model: \"sequential_7\"\n",
            "_________________________________________________________________\n",
            " Layer (type)                Output Shape              Param #   \n",
            "=================================================================\n",
            " embedding_5 (Embedding)     (None, 100, 16)           8000      \n",
            "                                                                 \n",
            " lstm_4 (LSTM)               (None, 100, 8)            800       \n",
            "                                                                 \n",
            " lstm_5 (LSTM)               (None, 8)                 544       \n",
            "                                                                 \n",
            " dense_5 (Dense)             (None, 1)                 9         \n",
            "                                                                 \n",
            "=================================================================\n",
            "Total params: 9,353\n",
            "Trainable params: 9,353\n",
            "Non-trainable params: 0\n",
            "_________________________________________________________________\n"
          ]
        }
      ]
    },
    {
      "cell_type": "code",
      "source": [
        "rmsprop = keras.optimizers.RMSprop(1e-4)\n",
        "\n",
        "model3.compile(optimizer=rmsprop, loss='binary_crossentropy', metrics=['accuracy'])\n",
        "\n",
        "checkpoint_cb = keras.callbacks.ModelCheckpoint('best-2rnn-model.h5', save_best_only=True)\n",
        "early_stopping_cb = keras.callbacks.EarlyStopping(patience=3, restore_best_weights=True)\n",
        "\n",
        "history = model3.fit(train_seq, train_target, epochs=100, batch_size=64, validation_data=(val_seq, val_target), callbacks=[checkpoint_cb, early_stopping_cb])"
      ],
      "metadata": {
        "colab": {
          "base_uri": "https://localhost:8080/"
        },
        "id": "MCCwzB9ZJLtQ",
        "outputId": "a499634a-d107-4a07-fe02-64b846bd3537"
      },
      "execution_count": 52,
      "outputs": [
        {
          "output_type": "stream",
          "name": "stdout",
          "text": [
            "Epoch 1/100\n",
            "313/313 [==============================] - 35s 95ms/step - loss: 0.6928 - accuracy: 0.5158 - val_loss: 0.6922 - val_accuracy: 0.5940\n",
            "Epoch 2/100\n",
            "313/313 [==============================] - 29s 91ms/step - loss: 0.6906 - accuracy: 0.6045 - val_loss: 0.6877 - val_accuracy: 0.6374\n",
            "Epoch 3/100\n",
            "313/313 [==============================] - 28s 91ms/step - loss: 0.6784 - accuracy: 0.6380 - val_loss: 0.6610 - val_accuracy: 0.6638\n",
            "Epoch 4/100\n",
            "313/313 [==============================] - 28s 90ms/step - loss: 0.6195 - accuracy: 0.6942 - val_loss: 0.5868 - val_accuracy: 0.7106\n",
            "Epoch 5/100\n",
            "313/313 [==============================] - 28s 90ms/step - loss: 0.5639 - accuracy: 0.7268 - val_loss: 0.5503 - val_accuracy: 0.7324\n",
            "Epoch 6/100\n",
            "313/313 [==============================] - 28s 90ms/step - loss: 0.5327 - accuracy: 0.7438 - val_loss: 0.5214 - val_accuracy: 0.7480\n",
            "Epoch 7/100\n",
            "313/313 [==============================] - 29s 91ms/step - loss: 0.5112 - accuracy: 0.7584 - val_loss: 0.5008 - val_accuracy: 0.7628\n",
            "Epoch 8/100\n",
            "313/313 [==============================] - 28s 90ms/step - loss: 0.4964 - accuracy: 0.7677 - val_loss: 0.4900 - val_accuracy: 0.7720\n",
            "Epoch 9/100\n",
            "313/313 [==============================] - 28s 90ms/step - loss: 0.4829 - accuracy: 0.7778 - val_loss: 0.4773 - val_accuracy: 0.7762\n",
            "Epoch 10/100\n",
            "313/313 [==============================] - 28s 90ms/step - loss: 0.4755 - accuracy: 0.7808 - val_loss: 0.4711 - val_accuracy: 0.7798\n",
            "Epoch 11/100\n",
            "313/313 [==============================] - 28s 90ms/step - loss: 0.4699 - accuracy: 0.7849 - val_loss: 0.4654 - val_accuracy: 0.7878\n",
            "Epoch 12/100\n",
            "313/313 [==============================] - 44s 140ms/step - loss: 0.4619 - accuracy: 0.7872 - val_loss: 0.4598 - val_accuracy: 0.7884\n",
            "Epoch 13/100\n",
            "313/313 [==============================] - 33s 104ms/step - loss: 0.4586 - accuracy: 0.7868 - val_loss: 0.4571 - val_accuracy: 0.7912\n",
            "Epoch 14/100\n",
            "313/313 [==============================] - 29s 91ms/step - loss: 0.4551 - accuracy: 0.7901 - val_loss: 0.4545 - val_accuracy: 0.7916\n",
            "Epoch 15/100\n",
            "313/313 [==============================] - 28s 89ms/step - loss: 0.4510 - accuracy: 0.7926 - val_loss: 0.4527 - val_accuracy: 0.7932\n",
            "Epoch 16/100\n",
            "313/313 [==============================] - 28s 90ms/step - loss: 0.4510 - accuracy: 0.7933 - val_loss: 0.4520 - val_accuracy: 0.7930\n",
            "Epoch 17/100\n",
            "313/313 [==============================] - 28s 88ms/step - loss: 0.4477 - accuracy: 0.7942 - val_loss: 0.4502 - val_accuracy: 0.7938\n",
            "Epoch 18/100\n",
            "313/313 [==============================] - 40s 128ms/step - loss: 0.4462 - accuracy: 0.7950 - val_loss: 0.4531 - val_accuracy: 0.7930\n",
            "Epoch 19/100\n",
            "313/313 [==============================] - 34s 107ms/step - loss: 0.4456 - accuracy: 0.7947 - val_loss: 0.4498 - val_accuracy: 0.7924\n",
            "Epoch 20/100\n",
            "313/313 [==============================] - 28s 89ms/step - loss: 0.4426 - accuracy: 0.7943 - val_loss: 0.4508 - val_accuracy: 0.7930\n",
            "Epoch 21/100\n",
            "313/313 [==============================] - 28s 88ms/step - loss: 0.4394 - accuracy: 0.7970 - val_loss: 0.4470 - val_accuracy: 0.7926\n",
            "Epoch 22/100\n",
            "313/313 [==============================] - 28s 90ms/step - loss: 0.4388 - accuracy: 0.7983 - val_loss: 0.4458 - val_accuracy: 0.7960\n",
            "Epoch 23/100\n",
            "313/313 [==============================] - 28s 91ms/step - loss: 0.4371 - accuracy: 0.7995 - val_loss: 0.4442 - val_accuracy: 0.7964\n",
            "Epoch 24/100\n",
            "313/313 [==============================] - 28s 91ms/step - loss: 0.4359 - accuracy: 0.7993 - val_loss: 0.4431 - val_accuracy: 0.7950\n",
            "Epoch 25/100\n",
            "313/313 [==============================] - 28s 89ms/step - loss: 0.4358 - accuracy: 0.8007 - val_loss: 0.4437 - val_accuracy: 0.7968\n",
            "Epoch 26/100\n",
            "313/313 [==============================] - 29s 92ms/step - loss: 0.4344 - accuracy: 0.8012 - val_loss: 0.4423 - val_accuracy: 0.7968\n",
            "Epoch 27/100\n",
            "313/313 [==============================] - 29s 93ms/step - loss: 0.4319 - accuracy: 0.8042 - val_loss: 0.4410 - val_accuracy: 0.7982\n",
            "Epoch 28/100\n",
            "313/313 [==============================] - 30s 97ms/step - loss: 0.4319 - accuracy: 0.8044 - val_loss: 0.4402 - val_accuracy: 0.7966\n",
            "Epoch 29/100\n",
            "313/313 [==============================] - 32s 103ms/step - loss: 0.4306 - accuracy: 0.8041 - val_loss: 0.4415 - val_accuracy: 0.7964\n",
            "Epoch 30/100\n",
            "313/313 [==============================] - 28s 91ms/step - loss: 0.4302 - accuracy: 0.8037 - val_loss: 0.4411 - val_accuracy: 0.7970\n",
            "Epoch 31/100\n",
            "313/313 [==============================] - 30s 97ms/step - loss: 0.4273 - accuracy: 0.8062 - val_loss: 0.4388 - val_accuracy: 0.7988\n",
            "Epoch 32/100\n",
            "313/313 [==============================] - 28s 90ms/step - loss: 0.4276 - accuracy: 0.8034 - val_loss: 0.4391 - val_accuracy: 0.7988\n",
            "Epoch 33/100\n",
            "313/313 [==============================] - 28s 90ms/step - loss: 0.4293 - accuracy: 0.8016 - val_loss: 0.4408 - val_accuracy: 0.7962\n",
            "Epoch 34/100\n",
            "313/313 [==============================] - 28s 91ms/step - loss: 0.4272 - accuracy: 0.8062 - val_loss: 0.4377 - val_accuracy: 0.7998\n",
            "Epoch 35/100\n",
            "313/313 [==============================] - 28s 89ms/step - loss: 0.4245 - accuracy: 0.8070 - val_loss: 0.4389 - val_accuracy: 0.7960\n",
            "Epoch 36/100\n",
            "313/313 [==============================] - 29s 91ms/step - loss: 0.4259 - accuracy: 0.8054 - val_loss: 0.4375 - val_accuracy: 0.7988\n",
            "Epoch 37/100\n",
            "313/313 [==============================] - 29s 91ms/step - loss: 0.4232 - accuracy: 0.8070 - val_loss: 0.4369 - val_accuracy: 0.8028\n",
            "Epoch 38/100\n",
            "313/313 [==============================] - 29s 91ms/step - loss: 0.4240 - accuracy: 0.8045 - val_loss: 0.4363 - val_accuracy: 0.8024\n",
            "Epoch 39/100\n",
            "313/313 [==============================] - 28s 89ms/step - loss: 0.4225 - accuracy: 0.8079 - val_loss: 0.4393 - val_accuracy: 0.7972\n",
            "Epoch 40/100\n",
            "313/313 [==============================] - 28s 90ms/step - loss: 0.4218 - accuracy: 0.8079 - val_loss: 0.4367 - val_accuracy: 0.7966\n",
            "Epoch 41/100\n",
            "313/313 [==============================] - 28s 91ms/step - loss: 0.4217 - accuracy: 0.8041 - val_loss: 0.4357 - val_accuracy: 0.8016\n",
            "Epoch 42/100\n",
            "313/313 [==============================] - 28s 90ms/step - loss: 0.4215 - accuracy: 0.8066 - val_loss: 0.4356 - val_accuracy: 0.7996\n",
            "Epoch 43/100\n",
            "313/313 [==============================] - 28s 90ms/step - loss: 0.4200 - accuracy: 0.8089 - val_loss: 0.4381 - val_accuracy: 0.7970\n",
            "Epoch 44/100\n",
            "313/313 [==============================] - 28s 89ms/step - loss: 0.4223 - accuracy: 0.8062 - val_loss: 0.4338 - val_accuracy: 0.8012\n",
            "Epoch 45/100\n",
            "313/313 [==============================] - 28s 90ms/step - loss: 0.4191 - accuracy: 0.8098 - val_loss: 0.4344 - val_accuracy: 0.7982\n",
            "Epoch 46/100\n",
            "313/313 [==============================] - 28s 91ms/step - loss: 0.4215 - accuracy: 0.8081 - val_loss: 0.4341 - val_accuracy: 0.7998\n",
            "Epoch 47/100\n",
            "313/313 [==============================] - 29s 93ms/step - loss: 0.4207 - accuracy: 0.8080 - val_loss: 0.4335 - val_accuracy: 0.8012\n",
            "Epoch 48/100\n",
            "313/313 [==============================] - 28s 90ms/step - loss: 0.4178 - accuracy: 0.8084 - val_loss: 0.4322 - val_accuracy: 0.8032\n",
            "Epoch 49/100\n",
            "313/313 [==============================] - 28s 90ms/step - loss: 0.4187 - accuracy: 0.8097 - val_loss: 0.4323 - val_accuracy: 0.8024\n",
            "Epoch 50/100\n",
            "313/313 [==============================] - 28s 90ms/step - loss: 0.4169 - accuracy: 0.8104 - val_loss: 0.4321 - val_accuracy: 0.8040\n",
            "Epoch 51/100\n",
            "313/313 [==============================] - 28s 90ms/step - loss: 0.4174 - accuracy: 0.8093 - val_loss: 0.4326 - val_accuracy: 0.8014\n",
            "Epoch 52/100\n",
            "313/313 [==============================] - 28s 90ms/step - loss: 0.4151 - accuracy: 0.8127 - val_loss: 0.4322 - val_accuracy: 0.8004\n",
            "Epoch 53/100\n",
            "313/313 [==============================] - 28s 90ms/step - loss: 0.4162 - accuracy: 0.8094 - val_loss: 0.4352 - val_accuracy: 0.8020\n"
          ]
        }
      ]
    },
    {
      "cell_type": "code",
      "source": [
        "plt.plot(history.history['loss'])\n",
        "plt.plot(history.history['val_loss'])\n",
        "plt.xlabel('epoch')\n",
        "plt.ylabel('loss')\n",
        "plt.legend(['train', 'val'])\n",
        "plt.show()"
      ],
      "metadata": {
        "colab": {
          "base_uri": "https://localhost:8080/",
          "height": 279
        },
        "id": "K3yUzvtPJwX4",
        "outputId": "3915e4af-68ab-401d-9cd8-b6ec4d368b7f"
      },
      "execution_count": 55,
      "outputs": [
        {
          "output_type": "display_data",
          "data": {
            "image/png": "[encoded data removed]",
            "text/plain": [
              "<Figure size 432x288 with 1 Axes>"
            ]
          },
          "metadata": {
            "needs_background": "light"
          }
        }
      ]
    },
    {
      "cell_type": "code",
      "source": [
        "model4 = keras.Sequential()\n",
        "model4.add(keras.layers.Embedding(500, 16, input_length=100))\n",
        "model4.add(keras.layers.GRU(8))\n",
        "model4.add(Dense(1, activation='sigmoid'))"
      ],
      "metadata": {
        "id": "8oybWc9KKNxl"
      },
      "execution_count": 53,
      "outputs": []
    },
    {
      "cell_type": "code",
      "source": [
        "model4.summary()"
      ],
      "metadata": {
        "colab": {
          "base_uri": "https://localhost:8080/"
        },
        "id": "oXpypIc3MfHv",
        "outputId": "203cefc2-76d9-46c9-cfd0-3e504e475a8b"
      },
      "execution_count": 54,
      "outputs": [
        {
          "output_type": "stream",
          "name": "stdout",
          "text": [
            "Model: \"sequential_8\"\n",
            "_________________________________________________________________\n",
            " Layer (type)                Output Shape              Param #   \n",
            "=================================================================\n",
            " embedding_6 (Embedding)     (None, 100, 16)           8000      \n",
            "                                                                 \n",
            " gru (GRU)                   (None, 8)                 624       \n",
            "                                                                 \n",
            " dense_6 (Dense)             (None, 1)                 9         \n",
            "                                                                 \n",
            "=================================================================\n",
            "Total params: 8,633\n",
            "Trainable params: 8,633\n",
            "Non-trainable params: 0\n",
            "_________________________________________________________________\n"
          ]
        }
      ]
    },
    {
      "cell_type": "code",
      "source": [
        "rmsprop = keras.optimizers.RMSprop(1e-4)\n",
        "\n",
        "model4.compile(optimizer=rmsprop, loss='binary_crossentropy', metrics=['accuracy'])\n",
        "\n",
        "checkpoint_cb = keras.callbacks.ModelCheckpoint('best-gru-model.h5', save_best_only=True)\n",
        "early_stopping_cb = keras.callbacks.EarlyStopping(patience=3, restore_best_weights=True)\n",
        "\n",
        "history = model4.fit(train_seq, train_target, epochs=100, batch_size=64, validation_data=(val_seq, val_target), callbacks=[checkpoint_cb, early_stopping_cb])"
      ],
      "metadata": {
        "colab": {
          "base_uri": "https://localhost:8080/"
        },
        "id": "nzpU4vI0MhMl",
        "outputId": "5b097930-e140-4f46-dda1-e026bea2822a"
      },
      "execution_count": 56,
      "outputs": [
        {
          "output_type": "stream",
          "name": "stdout",
          "text": [
            "Epoch 1/100\n",
            "313/313 [==============================] - 19s 51ms/step - loss: 0.6925 - accuracy: 0.5427 - val_loss: 0.6920 - val_accuracy: 0.5544\n",
            "Epoch 2/100\n",
            "313/313 [==============================] - 16s 50ms/step - loss: 0.6908 - accuracy: 0.5735 - val_loss: 0.6901 - val_accuracy: 0.5778\n",
            "Epoch 3/100\n",
            "313/313 [==============================] - 15s 49ms/step - loss: 0.6882 - accuracy: 0.6005 - val_loss: 0.6871 - val_accuracy: 0.5952\n",
            "Epoch 4/100\n",
            "313/313 [==============================] - 15s 49ms/step - loss: 0.6837 - accuracy: 0.6183 - val_loss: 0.6818 - val_accuracy: 0.6098\n",
            "Epoch 5/100\n",
            "313/313 [==============================] - 15s 49ms/step - loss: 0.6757 - accuracy: 0.6360 - val_loss: 0.6723 - val_accuracy: 0.6282\n",
            "Epoch 6/100\n",
            "313/313 [==============================] - 15s 49ms/step - loss: 0.6610 - accuracy: 0.6539 - val_loss: 0.6537 - val_accuracy: 0.6482\n",
            "Epoch 7/100\n",
            "313/313 [==============================] - 15s 49ms/step - loss: 0.6298 - accuracy: 0.6729 - val_loss: 0.6110 - val_accuracy: 0.6912\n",
            "Epoch 8/100\n",
            "313/313 [==============================] - 15s 49ms/step - loss: 0.5762 - accuracy: 0.7151 - val_loss: 0.5663 - val_accuracy: 0.7232\n",
            "Epoch 9/100\n",
            "313/313 [==============================] - 19s 62ms/step - loss: 0.5462 - accuracy: 0.7383 - val_loss: 0.5490 - val_accuracy: 0.7388\n",
            "Epoch 10/100\n",
            "313/313 [==============================] - 20s 64ms/step - loss: 0.5296 - accuracy: 0.7480 - val_loss: 0.5356 - val_accuracy: 0.7490\n",
            "Epoch 11/100\n",
            "313/313 [==============================] - 25s 81ms/step - loss: 0.5165 - accuracy: 0.7581 - val_loss: 0.5256 - val_accuracy: 0.7494\n",
            "Epoch 12/100\n",
            "313/313 [==============================] - 23s 73ms/step - loss: 0.5052 - accuracy: 0.7653 - val_loss: 0.5178 - val_accuracy: 0.7524\n",
            "Epoch 13/100\n",
            "313/313 [==============================] - 23s 75ms/step - loss: 0.4964 - accuracy: 0.7701 - val_loss: 0.5090 - val_accuracy: 0.7610\n",
            "Epoch 14/100\n",
            "313/313 [==============================] - 22s 69ms/step - loss: 0.4893 - accuracy: 0.7738 - val_loss: 0.5039 - val_accuracy: 0.7604\n",
            "Epoch 15/100\n",
            "313/313 [==============================] - 16s 50ms/step - loss: 0.4820 - accuracy: 0.7782 - val_loss: 0.4960 - val_accuracy: 0.7686\n",
            "Epoch 16/100\n",
            "313/313 [==============================] - 16s 52ms/step - loss: 0.4752 - accuracy: 0.7831 - val_loss: 0.4964 - val_accuracy: 0.7590\n",
            "Epoch 17/100\n",
            "313/313 [==============================] - 16s 50ms/step - loss: 0.4694 - accuracy: 0.7857 - val_loss: 0.4865 - val_accuracy: 0.7744\n",
            "Epoch 18/100\n",
            "313/313 [==============================] - 16s 50ms/step - loss: 0.4649 - accuracy: 0.7878 - val_loss: 0.4829 - val_accuracy: 0.7786\n",
            "Epoch 19/100\n",
            "313/313 [==============================] - 16s 51ms/step - loss: 0.4601 - accuracy: 0.7906 - val_loss: 0.4802 - val_accuracy: 0.7800\n",
            "Epoch 20/100\n",
            "313/313 [==============================] - 16s 50ms/step - loss: 0.4565 - accuracy: 0.7923 - val_loss: 0.4770 - val_accuracy: 0.7748\n",
            "Epoch 21/100\n",
            "313/313 [==============================] - 16s 50ms/step - loss: 0.4525 - accuracy: 0.7941 - val_loss: 0.4750 - val_accuracy: 0.7742\n",
            "Epoch 22/100\n",
            "313/313 [==============================] - 16s 52ms/step - loss: 0.4493 - accuracy: 0.7965 - val_loss: 0.4718 - val_accuracy: 0.7768\n",
            "Epoch 23/100\n",
            "313/313 [==============================] - 16s 52ms/step - loss: 0.4461 - accuracy: 0.7972 - val_loss: 0.4676 - val_accuracy: 0.7812\n",
            "Epoch 24/100\n",
            "313/313 [==============================] - 16s 51ms/step - loss: 0.4432 - accuracy: 0.8008 - val_loss: 0.4654 - val_accuracy: 0.7804\n",
            "Epoch 25/100\n",
            "313/313 [==============================] - 16s 51ms/step - loss: 0.4414 - accuracy: 0.7997 - val_loss: 0.4648 - val_accuracy: 0.7788\n",
            "Epoch 26/100\n",
            "313/313 [==============================] - 16s 50ms/step - loss: 0.4388 - accuracy: 0.8027 - val_loss: 0.4618 - val_accuracy: 0.7816\n",
            "Epoch 27/100\n",
            "313/313 [==============================] - 16s 50ms/step - loss: 0.4366 - accuracy: 0.8039 - val_loss: 0.4604 - val_accuracy: 0.7874\n",
            "Epoch 28/100\n",
            "313/313 [==============================] - 15s 49ms/step - loss: 0.4345 - accuracy: 0.8060 - val_loss: 0.4617 - val_accuracy: 0.7804\n",
            "Epoch 29/100\n",
            "313/313 [==============================] - 16s 50ms/step - loss: 0.4331 - accuracy: 0.8068 - val_loss: 0.4572 - val_accuracy: 0.7860\n",
            "Epoch 30/100\n",
            "313/313 [==============================] - 16s 50ms/step - loss: 0.4312 - accuracy: 0.8081 - val_loss: 0.4586 - val_accuracy: 0.7812\n",
            "Epoch 31/100\n",
            "313/313 [==============================] - 16s 50ms/step - loss: 0.4300 - accuracy: 0.8090 - val_loss: 0.4559 - val_accuracy: 0.7906\n",
            "Epoch 32/100\n",
            "313/313 [==============================] - 15s 49ms/step - loss: 0.4282 - accuracy: 0.8099 - val_loss: 0.4539 - val_accuracy: 0.7880\n",
            "Epoch 33/100\n",
            "313/313 [==============================] - 15s 49ms/step - loss: 0.4271 - accuracy: 0.8108 - val_loss: 0.4527 - val_accuracy: 0.7898\n",
            "Epoch 34/100\n",
            "313/313 [==============================] - 15s 49ms/step - loss: 0.4260 - accuracy: 0.8109 - val_loss: 0.4529 - val_accuracy: 0.7896\n",
            "Epoch 35/100\n",
            "313/313 [==============================] - 15s 49ms/step - loss: 0.4245 - accuracy: 0.8135 - val_loss: 0.4522 - val_accuracy: 0.7908\n",
            "Epoch 36/100\n",
            "313/313 [==============================] - 16s 50ms/step - loss: 0.4237 - accuracy: 0.8139 - val_loss: 0.4523 - val_accuracy: 0.7896\n",
            "Epoch 37/100\n",
            "313/313 [==============================] - 15s 50ms/step - loss: 0.4227 - accuracy: 0.8123 - val_loss: 0.4505 - val_accuracy: 0.7898\n",
            "Epoch 38/100\n",
            "313/313 [==============================] - 15s 49ms/step - loss: 0.4220 - accuracy: 0.8139 - val_loss: 0.4498 - val_accuracy: 0.7886\n",
            "Epoch 39/100\n",
            "313/313 [==============================] - 15s 49ms/step - loss: 0.4209 - accuracy: 0.8133 - val_loss: 0.4522 - val_accuracy: 0.7884\n",
            "Epoch 40/100\n",
            "313/313 [==============================] - 15s 49ms/step - loss: 0.4199 - accuracy: 0.8149 - val_loss: 0.4484 - val_accuracy: 0.7890\n",
            "Epoch 41/100\n",
            "313/313 [==============================] - 16s 51ms/step - loss: 0.4194 - accuracy: 0.8139 - val_loss: 0.4508 - val_accuracy: 0.7888\n",
            "Epoch 42/100\n",
            "313/313 [==============================] - 16s 51ms/step - loss: 0.4190 - accuracy: 0.8149 - val_loss: 0.4499 - val_accuracy: 0.7920\n",
            "Epoch 43/100\n",
            "313/313 [==============================] - 15s 49ms/step - loss: 0.4181 - accuracy: 0.8152 - val_loss: 0.4471 - val_accuracy: 0.7896\n",
            "Epoch 44/100\n",
            "313/313 [==============================] - 15s 49ms/step - loss: 0.4177 - accuracy: 0.8159 - val_loss: 0.4458 - val_accuracy: 0.7908\n",
            "Epoch 45/100\n",
            "313/313 [==============================] - 15s 49ms/step - loss: 0.4169 - accuracy: 0.8148 - val_loss: 0.4463 - val_accuracy: 0.7900\n",
            "Epoch 46/100\n",
            "313/313 [==============================] - 16s 50ms/step - loss: 0.4165 - accuracy: 0.8151 - val_loss: 0.4455 - val_accuracy: 0.7940\n",
            "Epoch 47/100\n",
            "313/313 [==============================] - 15s 48ms/step - loss: 0.4155 - accuracy: 0.8171 - val_loss: 0.4460 - val_accuracy: 0.7888\n",
            "Epoch 48/100\n",
            "313/313 [==============================] - 16s 50ms/step - loss: 0.4151 - accuracy: 0.8163 - val_loss: 0.4477 - val_accuracy: 0.7892\n",
            "Epoch 49/100\n",
            "313/313 [==============================] - 16s 50ms/step - loss: 0.4150 - accuracy: 0.8164 - val_loss: 0.4436 - val_accuracy: 0.7918\n",
            "Epoch 50/100\n",
            "313/313 [==============================] - 16s 50ms/step - loss: 0.4143 - accuracy: 0.8170 - val_loss: 0.4439 - val_accuracy: 0.7942\n",
            "Epoch 51/100\n",
            "313/313 [==============================] - 15s 49ms/step - loss: 0.4141 - accuracy: 0.8170 - val_loss: 0.4427 - val_accuracy: 0.7938\n",
            "Epoch 52/100\n",
            "313/313 [==============================] - 15s 49ms/step - loss: 0.4138 - accuracy: 0.8165 - val_loss: 0.4439 - val_accuracy: 0.7902\n",
            "Epoch 53/100\n",
            "313/313 [==============================] - 16s 50ms/step - loss: 0.4128 - accuracy: 0.8156 - val_loss: 0.4487 - val_accuracy: 0.7876\n",
            "Epoch 54/100\n",
            "313/313 [==============================] - 16s 51ms/step - loss: 0.4127 - accuracy: 0.8166 - val_loss: 0.4417 - val_accuracy: 0.7938\n",
            "Epoch 55/100\n",
            "313/313 [==============================] - 16s 50ms/step - loss: 0.4122 - accuracy: 0.8172 - val_loss: 0.4412 - val_accuracy: 0.7970\n",
            "Epoch 56/100\n",
            "313/313 [==============================] - 16s 50ms/step - loss: 0.4119 - accuracy: 0.8173 - val_loss: 0.4413 - val_accuracy: 0.7944\n",
            "Epoch 57/100\n",
            "313/313 [==============================] - 16s 50ms/step - loss: 0.4119 - accuracy: 0.8164 - val_loss: 0.4409 - val_accuracy: 0.7932\n",
            "Epoch 58/100\n",
            "313/313 [==============================] - 16s 50ms/step - loss: 0.4115 - accuracy: 0.8163 - val_loss: 0.4398 - val_accuracy: 0.7948\n",
            "Epoch 59/100\n",
            "313/313 [==============================] - 16s 50ms/step - loss: 0.4111 - accuracy: 0.8176 - val_loss: 0.4390 - val_accuracy: 0.7970\n",
            "Epoch 60/100\n",
            "313/313 [==============================] - 16s 50ms/step - loss: 0.4110 - accuracy: 0.8170 - val_loss: 0.4399 - val_accuracy: 0.7974\n",
            "Epoch 61/100\n",
            "313/313 [==============================] - 16s 51ms/step - loss: 0.4107 - accuracy: 0.8157 - val_loss: 0.4382 - val_accuracy: 0.7974\n",
            "Epoch 62/100\n",
            "313/313 [==============================] - 16s 52ms/step - loss: 0.4103 - accuracy: 0.8160 - val_loss: 0.4390 - val_accuracy: 0.7946\n",
            "Epoch 63/100\n",
            "313/313 [==============================] - 16s 50ms/step - loss: 0.4102 - accuracy: 0.8178 - val_loss: 0.4383 - val_accuracy: 0.7976\n",
            "Epoch 64/100\n",
            "313/313 [==============================] - 16s 51ms/step - loss: 0.4099 - accuracy: 0.8166 - val_loss: 0.4391 - val_accuracy: 0.7988\n"
          ]
        }
      ]
    },
    {
      "cell_type": "code",
      "source": [
        "plt.plot(history.history['loss'])\n",
        "plt.plot(history.history['val_loss'])\n",
        "plt.xlabel('epoch')\n",
        "plt.ylabel('loss')\n",
        "plt.legend(['train', 'val'])\n",
        "plt.show()"
      ],
      "metadata": {
        "colab": {
          "base_uri": "https://localhost:8080/",
          "height": 279
        },
        "id": "465-E7HSNmyK",
        "outputId": "761084c8-f76c-4eab-a394-6a64e9003c11"
      },
      "execution_count": 57,
      "outputs": [
        {
          "output_type": "display_data",
          "data": {
            "image/png": "[encoded data removed]",
            "text/plain": [
              "<Figure size 432x288 with 1 Axes>"
            ]
          },
          "metadata": {
            "needs_background": "light"
          }
        }
      ]
    },
    {
      "cell_type": "code",
      "source": [
        "test_seq = pad_sequences(test_input, maxlen=100)\n",
        "rnn_model = keras.models.load_model('best-2rnn-model.h5')\n",
        "rnn_model.evaluate(test_seq, test_target)"
      ],
      "metadata": {
        "colab": {
          "base_uri": "https://localhost:8080/"
        },
        "id": "m__T60DEQz2l",
        "outputId": "a2bde0b1-d729-4b14-cfb2-b5fefdf5b433"
      },
      "execution_count": 58,
      "outputs": [
        {
          "output_type": "stream",
          "name": "stdout",
          "text": [
            "782/782 [==============================] - 14s 15ms/step - loss: 0.4255 - accuracy: 0.8010\n"
          ]
        },
        {
          "output_type": "execute_result",
          "data": {
            "text/plain": [
              "[0.4254753589630127, 0.8009999990463257]"
            ]
          },
          "metadata": {},
          "execution_count": 58
        }
      ]
    }
  ]
}