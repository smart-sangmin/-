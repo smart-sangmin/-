{
  "nbformat": 4,
  "nbformat_minor": 0,
  "metadata": {
    "colab": {
      "name": "5장-2 교차 검증과 그리드 서치",
      "provenance": [],
      "authorship_tag": "ABX9TyN/t3/JOostHH6Ujfy/IxAt"
    },
    "kernelspec": {
      "name": "python3",
      "display_name": "Python 3"
    },
    "language_info": {
      "name": "python"
    }
  },
  "cells": [
    {
      "cell_type": "markdown",
      "source": [
        "#검증세트\n",
        "이전에는 train 세트와 test 세트로 모델을 훈련시키고 평가했다.<br>\n",
        "하지만 test세트로 평가하고 test세트에 부적합 했을 때, 다시 test세트를의 score를 높이려고 한다.<br>\n",
        "이 말은 모델을 train 세트로 학습하고 test 세트로 맞추는 것이라고 할 수 있다.<br>\n",
        "이런 문제를 해결 하기 위해서 기존 train, test set으로 split 하는 것에 ***검증 세트***를 추가해서 데이터를 나눌 것이다."
      ],
      "metadata": {
        "id": "PPj9f1GgdGQA"
      }
    },
    {
      "cell_type": "code",
      "source": [
        "import pandas as pd\n",
        "wine = pd.read_csv('https://bit.ly/wine_csv_data')"
      ],
      "metadata": {
        "id": "RXuSsPyodD00"
      },
      "execution_count": 52,
      "outputs": []
    },
    {
      "cell_type": "code",
      "execution_count": 53,
      "metadata": {
        "id": "2cgwYhexc9qv"
      },
      "outputs": [],
      "source": [
        "data = wine[['alcohol', 'sugar', 'pH']].to_numpy()\n",
        "target = wine['class'].to_numpy()"
      ]
    },
    {
      "cell_type": "code",
      "source": [
        "from sklearn.model_selection import train_test_split\n",
        "train_input, test_input, train_target, test_target = train_test_split(data, target, random_state=42, test_size=0.2)"
      ],
      "metadata": {
        "id": "2vYvmyareedb"
      },
      "execution_count": 54,
      "outputs": []
    },
    {
      "cell_type": "code",
      "source": [
        "sub_input, val_input, sub_target, val_target = train_test_split(train_input, train_target, random_state=42, test_size=0.2)"
      ],
      "metadata": {
        "id": "QtPYX3f-f20W"
      },
      "execution_count": 55,
      "outputs": []
    },
    {
      "cell_type": "code",
      "source": [
        "print(sub_input.shape, val_input.shape)"
      ],
      "metadata": {
        "colab": {
          "base_uri": "https://localhost:8080/"
        },
        "id": "H7bhQyS4huSI",
        "outputId": "10f1106d-0505-4b61-e667-95853dcc9f4e"
      },
      "execution_count": 56,
      "outputs": [
        {
          "output_type": "stream",
          "name": "stdout",
          "text": [
            "(4157, 3) (1040, 3)\n"
          ]
        }
      ]
    },
    {
      "cell_type": "code",
      "source": [
        "from sklearn.tree import DecisionTreeClassifier\n",
        "dt = DecisionTreeClassifier(random_state=42)\n",
        "dt.fit(sub_input, sub_target)\n",
        "print(dt.score(sub_input, sub_target))\n",
        "print(dt.score(val_input, val_target))"
      ],
      "metadata": {
        "colab": {
          "base_uri": "https://localhost:8080/"
        },
        "id": "TYtZvixDh0Br",
        "outputId": "98e6a6ab-6c13-475b-8436-ca6b4e103bdd"
      },
      "execution_count": 57,
      "outputs": [
        {
          "output_type": "stream",
          "name": "stdout",
          "text": [
            "0.9971133028626413\n",
            "0.864423076923077\n"
          ]
        }
      ]
    },
    {
      "cell_type": "markdown",
      "source": [
        "#교차 검증\n",
        "많은 데이터로 훈련 시킬 수록 좋은 모델이 된다. 그렇다고 검증 세트를 너무 작게 떼어 내면 검증이 제대로 이뤄지지 않는다. 이럴 때, ***교차검증***을 이용하면 안정적인 검증 점수와 많은 데이터를 훈련에 사용할 수 있다.<BR>\n",
        "sklearn에 cross_validate()라는 교차 검증 함수가 있다.<br>\n",
        "사용 방법은 첫번째, 매개변수에 평가할 모델 객체, train_input, train_target\n",
        "---\n",
        "교차 검증은 검증 세트를 떼어 내는 평가하는 과정을 여러 번 반복한다. 그 다음 점수를 **평균**하여 최종 검증 점수를 얻는다. 일반적으로 5-폴드, 10-폴드<br>\n",
        "ex) 3-fold coss validation<br>\n",
        "훈련세트, 훈련세트, 검증세트<br>\n",
        "훈련세트, 검증세트, 훈련세트<br>\n",
        "검증세트, 훈련세트, 훈련세트<br>\n",
        "\n"
      ],
      "metadata": {
        "id": "wQf28b6JiUa4"
      }
    },
    {
      "cell_type": "code",
      "source": [
        "from sklearn.model_selection import cross_validate\n",
        "scores = cross_validate(dt, train_input, train_target)\n",
        "print(scores)\n",
        "import numpy as np\n",
        "print(np.mean(scores['test_score']))  # 교차 검증의 최종 점수"
      ],
      "metadata": {
        "colab": {
          "base_uri": "https://localhost:8080/"
        },
        "id": "VDCUqdMyiJ79",
        "outputId": "5550506c-8781-445d-fdc3-dd72f392c6cc"
      },
      "execution_count": 58,
      "outputs": [
        {
          "output_type": "stream",
          "name": "stdout",
          "text": [
            "{'fit_time': array([0.00808716, 0.00721049, 0.00759554, 0.0078876 , 0.0078764 ]), 'score_time': array([0.00098252, 0.00072646, 0.00078297, 0.00089622, 0.00079536]), 'test_score': array([0.86923077, 0.84615385, 0.87680462, 0.84889317, 0.83541867])}\n",
            "0.855300214703487\n"
          ]
        }
      ]
    },
    {
      "cell_type": "markdown",
      "source": [
        "### cross_validate\n",
        "output<br>\n",
        "dict\n",
        "fit_time 모델을 훈련하는 시간<br>\n",
        "score_time 모델을 검증하는 시간<br>\n",
        "test_score 검증세트로 평가한 점수<br>\n",
        "\n",
        "---\n",
        "회귀 모델일 경우: KFold 분할기<br>\n",
        "분류 모델일 경우: StratifiedKFold<br>\n",
        "\n",
        "---\n",
        "cross_validate는 훈련세트를 섞어 폴드를 나누지 않는다.(섞고 싶다면 cv = splitter 분할기 (KFold, StratifiedKFold)사용)<br>\n",
        "분할기에 n_splits 매개변수에 n 값을 넣었다면 n-fold cross validation\n"
      ],
      "metadata": {
        "id": "r8rK90Nrrt6Q"
      }
    },
    {
      "cell_type": "code",
      "source": [
        "# 위 코드와 동일\n",
        "from sklearn.model_selection import StratifiedKFold\n",
        "scores = cross_validate(dt, train_input, train_target, cv=StratifiedKFold())\n",
        "print(np.mean(scores['test_score']))"
      ],
      "metadata": {
        "colab": {
          "base_uri": "https://localhost:8080/"
        },
        "id": "WFDpOLoQtgjc",
        "outputId": "b949f0fb-3a07-4823-eb31-9959f6c1804c"
      },
      "execution_count": 59,
      "outputs": [
        {
          "output_type": "stream",
          "name": "stdout",
          "text": [
            "0.855300214703487\n"
          ]
        }
      ]
    },
    {
      "cell_type": "code",
      "source": [
        "from sklearn.model_selection import StratifiedKFold\n",
        "splitter = StratifiedKFold(n_splits=10, shuffle=True, random_state=42)\n",
        "score = cross_validate(dt, train_input, train_target, cv=splitter)\n",
        "print(np.mean(scores['test_score']))"
      ],
      "metadata": {
        "colab": {
          "base_uri": "https://localhost:8080/"
        },
        "id": "y6z7a20prLXt",
        "outputId": "9d0a23e6-e09b-4ebc-92ad-385959248daa"
      },
      "execution_count": 60,
      "outputs": [
        {
          "output_type": "stream",
          "name": "stdout",
          "text": [
            "0.855300214703487\n"
          ]
        }
      ]
    },
    {
      "cell_type": "markdown",
      "source": [
        "# ***최적의 모델을 위한 하이퍼파라미터 탐색***"
      ],
      "metadata": {
        "id": "eU-v8Trcv9pf"
      }
    },
    {
      "cell_type": "markdown",
      "source": [
        "#그리드 서치(GridSearch)\n",
        "하이퍼파라미터 탐색과 교차 검증을 한번에 수행한다.(cross_validate() 함수를 호출할 필요 없음)<br>\n",
        "sklearn.model_selection의 GridSearchCV 클래스<br>\n",
        "ex) 아래 결정 트리 모델에서 min_impurity_decrease 매개 변수의 최적값을 찾는 예제"
      ],
      "metadata": {
        "id": "uMuH4D-fwoDP"
      }
    },
    {
      "cell_type": "markdown",
      "source": [
        "n_jobs = -1 병렬 실행에 사용할 CPU 코어 수를 지정 기본값 1, (-1: 모든 코어)<br>\n",
        "GridSearchCV의 best_estimator_ 속성에 검증 점수가 가장 높은 모델이 저장되어 있음.\n"
      ],
      "metadata": {
        "id": "OKNqjg_cxdBn"
      }
    },
    {
      "cell_type": "code",
      "source": [
        "from sklearn.model_selection import GridSearchCV\n",
        "params = {'min_impurity_decrease': [0.0001, 0.0002, 0.0003, 0.0004, 0.0005]}\n",
        "gs = GridSearchCV(DecisionTreeClassifier(random_state=42), params, n_jobs=-1)"
      ],
      "metadata": {
        "id": "xC1VC5PYvBwD"
      },
      "execution_count": 61,
      "outputs": []
    },
    {
      "cell_type": "code",
      "source": [
        "gs.fit(train_input, train_target)"
      ],
      "metadata": {
        "colab": {
          "base_uri": "https://localhost:8080/"
        },
        "id": "p1ERbRuzwOoR",
        "outputId": "9375f66f-ec65-49a7-9ebe-5a9528b4cbd2"
      },
      "execution_count": 62,
      "outputs": [
        {
          "output_type": "execute_result",
          "data": {
            "text/plain": [
              "GridSearchCV(estimator=DecisionTreeClassifier(random_state=42), n_jobs=-1,\n",
              "             param_grid={'min_impurity_decrease': [0.0001, 0.0002, 0.0003,\n",
              "                                                   0.0004, 0.0005]})"
            ]
          },
          "metadata": {},
          "execution_count": 62
        }
      ]
    },
    {
      "cell_type": "code",
      "source": [
        "dt = gs.best_estimator_\n",
        "print(dt.score(train_input, train_target))"
      ],
      "metadata": {
        "id": "7qz2WwSTwUbL",
        "colab": {
          "base_uri": "https://localhost:8080/"
        },
        "outputId": "de642971-707e-467b-bd29-fbba56015e40"
      },
      "execution_count": 63,
      "outputs": [
        {
          "output_type": "stream",
          "name": "stdout",
          "text": [
            "0.9615162593804117\n"
          ]
        }
      ]
    },
    {
      "cell_type": "code",
      "source": [
        "print(gs.best_params_)"
      ],
      "metadata": {
        "colab": {
          "base_uri": "https://localhost:8080/"
        },
        "id": "O4-3pJ7KYMzN",
        "outputId": "d386b48a-cff2-4607-eddd-d3eb9cdefd23"
      },
      "execution_count": 64,
      "outputs": [
        {
          "output_type": "stream",
          "name": "stdout",
          "text": [
            "{'min_impurity_decrease': 0.0001}\n"
          ]
        }
      ]
    },
    {
      "cell_type": "code",
      "source": [
        "print(gs.cv_results_)\n",
        "print(gs.cv_results_['mean_test_score'])"
      ],
      "metadata": {
        "colab": {
          "base_uri": "https://localhost:8080/"
        },
        "id": "2gDcowxvoEfp",
        "outputId": "bc62d3de-67c8-44df-8291-7b0973b1d5e2"
      },
      "execution_count": 65,
      "outputs": [
        {
          "output_type": "stream",
          "name": "stdout",
          "text": [
            "{'mean_fit_time': array([0.00976543, 0.00977612, 0.00958123, 0.00887637, 0.00703568]), 'std_fit_time': array([0.00053807, 0.00093611, 0.00170292, 0.00114445, 0.00019754]), 'mean_score_time': array([0.00112638, 0.00109973, 0.00102434, 0.0009542 , 0.00118308]), 'std_score_time': array([7.98394870e-05, 1.71158611e-04, 3.26257684e-05, 4.43521106e-05,\n",
            "       3.92064037e-04]), 'param_min_impurity_decrease': masked_array(data=[0.0001, 0.0002, 0.0003, 0.0004, 0.0005],\n",
            "             mask=[False, False, False, False, False],\n",
            "       fill_value='?',\n",
            "            dtype=object), 'params': [{'min_impurity_decrease': 0.0001}, {'min_impurity_decrease': 0.0002}, {'min_impurity_decrease': 0.0003}, {'min_impurity_decrease': 0.0004}, {'min_impurity_decrease': 0.0005}], 'split0_test_score': array([0.86923077, 0.87115385, 0.86923077, 0.86923077, 0.86538462]), 'split1_test_score': array([0.86826923, 0.86346154, 0.85961538, 0.86346154, 0.86923077]), 'split2_test_score': array([0.8825794 , 0.87680462, 0.87584216, 0.88161694, 0.8825794 ]), 'split3_test_score': array([0.86717998, 0.85466795, 0.85081809, 0.84889317, 0.84985563]), 'split4_test_score': array([0.85370549, 0.85659288, 0.86910491, 0.87584216, 0.87102984]), 'mean_test_score': array([0.86819297, 0.86453617, 0.86492226, 0.86780891, 0.86761605]), 'std_test_score': array([0.00915386, 0.00843731, 0.0087452 , 0.01125985, 0.01056953]), 'rank_test_score': array([1, 5, 4, 2, 3], dtype=int32)}\n",
            "[0.86819297 0.86453617 0.86492226 0.86780891 0.86761605]\n"
          ]
        }
      ]
    },
    {
      "cell_type": "code",
      "source": [
        "best_index = np.argmax(gs.cv_results_['mean_test_score'])\n",
        "print(gs.cv_results_['params'][best_index])"
      ],
      "metadata": {
        "colab": {
          "base_uri": "https://localhost:8080/"
        },
        "id": "EhF2PHQqoKzc",
        "outputId": "1bea5862-3b56-4a7e-a6fc-1aa7f379f2a7"
      },
      "execution_count": 66,
      "outputs": [
        {
          "output_type": "stream",
          "name": "stdout",
          "text": [
            "{'min_impurity_decrease': 0.0001}\n"
          ]
        }
      ]
    },
    {
      "cell_type": "code",
      "source": [
        "params = {'min_impurity_decrease': np.arange(0.0001, 0.001, 0.0001),\n",
        "'max_depth': range(5, 20, 1),\n",
        "'min_samples_split': range(2, 100, 10)}"
      ],
      "metadata": {
        "id": "J66gefbdqVbA"
      },
      "execution_count": 67,
      "outputs": []
    },
    {
      "cell_type": "code",
      "source": [
        "gs = GridSearchCV(DecisionTreeClassifier(random_state=42), params, n_jobs=-1)\n",
        "gs.fit(train_input, train_target)"
      ],
      "metadata": {
        "colab": {
          "base_uri": "https://localhost:8080/"
        },
        "id": "qW50J3X6r4d7",
        "outputId": "ba712fbc-b599-4e8e-bb70-acbee1ba7c2f"
      },
      "execution_count": 68,
      "outputs": [
        {
          "output_type": "execute_result",
          "data": {
            "text/plain": [
              "GridSearchCV(estimator=DecisionTreeClassifier(random_state=42), n_jobs=-1,\n",
              "             param_grid={'max_depth': range(5, 20),\n",
              "                         'min_impurity_decrease': array([0.0001, 0.0002, 0.0003, 0.0004, 0.0005, 0.0006, 0.0007, 0.0008,\n",
              "       0.0009]),\n",
              "                         'min_samples_split': range(2, 100, 10)})"
            ]
          },
          "metadata": {},
          "execution_count": 68
        }
      ]
    },
    {
      "cell_type": "code",
      "source": [
        "print(gs.best_params_)"
      ],
      "metadata": {
        "colab": {
          "base_uri": "https://localhost:8080/"
        },
        "id": "IPsQHW85sHXM",
        "outputId": "39cdb413-be58-4913-e0c5-c9fb5671ceed"
      },
      "execution_count": 69,
      "outputs": [
        {
          "output_type": "stream",
          "name": "stdout",
          "text": [
            "{'max_depth': 14, 'min_impurity_decrease': 0.0004, 'min_samples_split': 12}\n"
          ]
        }
      ]
    },
    {
      "cell_type": "code",
      "source": [
        "print(np.max(gs.cv_results_['mean_test_score']))"
      ],
      "metadata": {
        "colab": {
          "base_uri": "https://localhost:8080/"
        },
        "id": "Q4i_Dr4KsPxN",
        "outputId": "9338a6ac-92a3-41ac-d907-5234e5e2082a"
      },
      "execution_count": 70,
      "outputs": [
        {
          "output_type": "stream",
          "name": "stdout",
          "text": [
            "0.8683865773302731\n"
          ]
        }
      ]
    },
    {
      "cell_type": "markdown",
      "source": [
        "#랜덤 서치(Random Search)\n",
        "랜덤 서치는 매개변수의 목록을 전달하는 것이 아니라 매개변수를 샘플링할 수 있는 확률 분포 객체를 전달"
      ],
      "metadata": {
        "id": "mvCLGzy6tCOf"
      }
    },
    {
      "cell_type": "code",
      "source": [
        "from scipy.stats import uniform, randint\n",
        "# 모두 주어진 볌위에서 고르게 값을 뽑는 클래스, '균등분포에서 샘플링한다'라고 말한다.\n",
        "# uniform은 실수 값, randint 정수 값을 뽑는다.\n",
        "rgen = randint(0, 10) \n",
        "print(rgen.rvs(10))  # 10개 뽑음"
      ],
      "metadata": {
        "colab": {
          "base_uri": "https://localhost:8080/"
        },
        "id": "doRtvG1ZtUCl",
        "outputId": "3b606948-7a89-44e3-b47d-562b0fb4107b"
      },
      "execution_count": 71,
      "outputs": [
        {
          "output_type": "stream",
          "name": "stdout",
          "text": [
            "[2 2 1 8 9 7 8 9 9 5]\n"
          ]
        }
      ]
    },
    {
      "cell_type": "code",
      "source": [
        "np.unique(rgen.rvs(1000), return_counts=True)  # 1000개 뽑음"
      ],
      "metadata": {
        "colab": {
          "base_uri": "https://localhost:8080/"
        },
        "id": "4dx-Gn8zuGG7",
        "outputId": "48e9a7ba-d045-499a-c85e-573d50837e58"
      },
      "execution_count": 72,
      "outputs": [
        {
          "output_type": "execute_result",
          "data": {
            "text/plain": [
              "(array([0, 1, 2, 3, 4, 5, 6, 7, 8, 9]),\n",
              " array([104,  90, 118, 104, 112,  94,  82,  98, 102,  96]))"
            ]
          },
          "metadata": {},
          "execution_count": 72
        }
      ]
    },
    {
      "cell_type": "code",
      "source": [
        "ugen = uniform(0, 1)\n",
        "ugen.rvs(10)"
      ],
      "metadata": {
        "colab": {
          "base_uri": "https://localhost:8080/"
        },
        "id": "l1eCwJN5urfM",
        "outputId": "31d118d8-187e-4464-e15e-7f590b0cda0c"
      },
      "execution_count": 73,
      "outputs": [
        {
          "output_type": "execute_result",
          "data": {
            "text/plain": [
              "array([0.63197065, 0.28467127, 0.75672613, 0.47338857, 0.91557851,\n",
              "       0.70683119, 0.78252246, 0.23105418, 0.357207  , 0.02652279])"
            ]
          },
          "metadata": {},
          "execution_count": 73
        }
      ]
    },
    {
      "cell_type": "code",
      "source": [
        "params = {'min_impurity_decrease': uniform(0.0001, 0.001),\n",
        "          'max_depth': randint(20, 50),\n",
        "          'min_samples_split': randint(2, 25),\n",
        "          'min_samples_leaf': randint(1, 25)}"
      ],
      "metadata": {
        "id": "LXipJKbqu1j0"
      },
      "execution_count": 74,
      "outputs": []
    },
    {
      "cell_type": "code",
      "source": [
        "from sklearn.model_selection import RandomizedSearchCV\n",
        "rs = RandomizedSearchCV(DecisionTreeClassifier(random_state=42), params, n_iter=100, n_jobs=-1, random_state=42)\n",
        "rs.fit(train_input, train_target)"
      ],
      "metadata": {
        "colab": {
          "base_uri": "https://localhost:8080/"
        },
        "id": "lw01eCDYvtnT",
        "outputId": "2f9f58fd-d172-4304-a77f-6bfe6bbe80b3"
      },
      "execution_count": 75,
      "outputs": [
        {
          "output_type": "execute_result",
          "data": {
            "text/plain": [
              "RandomizedSearchCV(estimator=DecisionTreeClassifier(random_state=42),\n",
              "                   n_iter=100, n_jobs=-1,\n",
              "                   param_distributions={'max_depth': <scipy.stats._distn_infrastructure.rv_frozen object at 0x7f452f031bd0>,\n",
              "                                        'min_impurity_decrease': <scipy.stats._distn_infrastructure.rv_frozen object at 0x7f452f031090>,\n",
              "                                        'min_samples_leaf': <scipy.stats._distn_infrastructure.rv_frozen object at 0x7f452f0f3a50>,\n",
              "                                        'min_samples_split': <scipy.stats._distn_infrastructure.rv_frozen object at 0x7f452f031050>},\n",
              "                   random_state=42)"
            ]
          },
          "metadata": {},
          "execution_count": 75
        }
      ]
    },
    {
      "cell_type": "code",
      "source": [
        "print(gs.best_params_)"
      ],
      "metadata": {
        "colab": {
          "base_uri": "https://localhost:8080/"
        },
        "id": "SwKNeO_tyU1G",
        "outputId": "273dab17-501a-40ce-e57e-8f83a6de3625"
      },
      "execution_count": 76,
      "outputs": [
        {
          "output_type": "stream",
          "name": "stdout",
          "text": [
            "{'max_depth': 14, 'min_impurity_decrease': 0.0004, 'min_samples_split': 12}\n"
          ]
        }
      ]
    },
    {
      "cell_type": "code",
      "source": [
        "print(np.max(gs.cv_results_['mean_test_score']))"
      ],
      "metadata": {
        "colab": {
          "base_uri": "https://localhost:8080/"
        },
        "id": "ja4JnV0qyW_8",
        "outputId": "a1dcd5b9-a6fd-4705-e0a2-eb6934e9579a"
      },
      "execution_count": 77,
      "outputs": [
        {
          "output_type": "stream",
          "name": "stdout",
          "text": [
            "0.8683865773302731\n"
          ]
        }
      ]
    },
    {
      "cell_type": "code",
      "source": [
        "dt = gs.best_estimator_\n",
        "print(dt.score(test_input, test_target))"
      ],
      "metadata": {
        "colab": {
          "base_uri": "https://localhost:8080/"
        },
        "id": "JnKe3x70ychP",
        "outputId": "a0d74b68-0c87-441b-958b-8cfa139272f8"
      },
      "execution_count": 78,
      "outputs": [
        {
          "output_type": "stream",
          "name": "stdout",
          "text": [
            "0.8615384615384616\n"
          ]
        }
      ]
    }
  ]
}