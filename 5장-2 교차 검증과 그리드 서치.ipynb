{
  "nbformat": 4,
  "nbformat_minor": 0,
  "metadata": {
    "colab": {
      "name": "5장-2 교차 검증과 그리드 서치",
      "provenance": [],
      "collapsed_sections": [],
      "authorship_tag": "ABX9TyM2P8Jl9Tecc+0AkZvvqIs/"
    },
    "kernelspec": {
      "name": "python3",
      "display_name": "Python 3"
    },
    "language_info": {
      "name": "python"
    }
  },
  "cells": [
    {
      "cell_type": "markdown",
      "source": [
        "#검증세트\n",
        "이전에는 train 세트와 test 세트로 모델을 훈련시키고 평가했다.<br>\n",
        "하지만 test세트로 평가하고 test세트에 부적합 했을 때, 다시 test세트를의 score를 높이려고 한다.<br>\n",
        "이 말은 모델을 train 세트로 학습하고 test 세트로 맞추는 것이라고 할 수 있다.<br>\n",
        "이런 문제를 해결 하기 위해서 기존 train, test set으로 split 하는 것에 ***검증 세트***를 추가해서 데이터를 나눌 것이다."
      ],
      "metadata": {
        "id": "PPj9f1GgdGQA"
      }
    },
    {
      "cell_type": "code",
      "source": [
        "import pandas as pd\n",
        "wine = pd.read_csv('https://bit.ly/wine_csv_data')"
      ],
      "metadata": {
        "id": "RXuSsPyodD00"
      },
      "execution_count": 97,
      "outputs": []
    },
    {
      "cell_type": "code",
      "execution_count": 98,
      "metadata": {
        "id": "2cgwYhexc9qv"
      },
      "outputs": [],
      "source": [
        "data = wine[['alcohol', 'sugar', 'pH']].to_numpy()\n",
        "target = wine['class'].to_numpy()"
      ]
    },
    {
      "cell_type": "code",
      "source": [
        "from sklearn.model_selection import train_test_split\n",
        "train_input, test_input, train_target, test_target = train_test_split(data, target, random_state=42, test_size=0.2)"
      ],
      "metadata": {
        "id": "2vYvmyareedb"
      },
      "execution_count": 99,
      "outputs": []
    },
    {
      "cell_type": "code",
      "source": [
        "sub_input, val_input, sub_target, val_target = train_test_split(train_input, train_target, random_state=42, test_size=0.2)"
      ],
      "metadata": {
        "id": "QtPYX3f-f20W"
      },
      "execution_count": 100,
      "outputs": []
    },
    {
      "cell_type": "code",
      "source": [
        "print(sub_input.shape, val_input.shape)"
      ],
      "metadata": {
        "colab": {
          "base_uri": "https://localhost:8080/"
        },
        "id": "H7bhQyS4huSI",
        "outputId": "afbe9f2a-6fc0-40a6-eda8-24fc9b9b5c73"
      },
      "execution_count": 101,
      "outputs": [
        {
          "output_type": "stream",
          "name": "stdout",
          "text": [
            "(4157, 3) (1040, 3)\n"
          ]
        }
      ]
    },
    {
      "cell_type": "code",
      "source": [
        "from sklearn.tree import DecisionTreeClassifier\n",
        "dt = DecisionTreeClassifier(random_state=42)\n",
        "dt.fit(sub_input, sub_target)\n",
        "print(dt.score(sub_input, sub_target))\n",
        "print(dt.score(val_input, val_target))"
      ],
      "metadata": {
        "colab": {
          "base_uri": "https://localhost:8080/"
        },
        "id": "TYtZvixDh0Br",
        "outputId": "6c6daf9a-3a1a-40aa-8724-620b7a069231"
      },
      "execution_count": 102,
      "outputs": [
        {
          "output_type": "stream",
          "name": "stdout",
          "text": [
            "0.9971133028626413\n",
            "0.864423076923077\n"
          ]
        }
      ]
    },
    {
      "cell_type": "markdown",
      "source": [
        "#교차 검증\n",
        "많은 데이터로 훈련 시킬 수록 좋은 모델이 된다. 그렇다고 검증 세트를 너무 작게 떼어 내면 검증이 제대로 이뤄지지 않는다. 이럴 때, ***교차검증***을 이용하면 안정적인 검증 점수와 많은 데이터를 훈련에 사용할 수 있다.<BR>\n",
        "sklearn에 cross_validate()라는 교차 검증 함수가 있다.<br>\n",
        "사용 방법은 첫번째, 매개변수에 평가할 모델 객체, train_input, train_target\n",
        "---\n",
        "교차 검증은 검증 세트를 떼어 내는 평가하는 과정을 여러 번 반복한다. 그 다음 점수를 **평균**하여 최종 검증 점수를 얻는다. 일반적으로 5-폴드, 10-폴드<br>\n",
        "ex) 3-fold coss validation<br>\n",
        "훈련세트, 훈련세트, 검증세트<br>\n",
        "훈련세트, 검증세트, 훈련세트<br>\n",
        "검증세트, 훈련세트, 훈련세트<br>\n",
        "\n"
      ],
      "metadata": {
        "id": "wQf28b6JiUa4"
      }
    },
    {
      "cell_type": "code",
      "source": [
        "from sklearn.model_selection import cross_validate\n",
        "scores = cross_validate(dt, train_input, train_target)\n",
        "print(scores)\n",
        "import numpy as np\n",
        "print(np.mean(scores['test_score']))  # 교차 검증의 최종 점수"
      ],
      "metadata": {
        "colab": {
          "base_uri": "https://localhost:8080/"
        },
        "id": "VDCUqdMyiJ79",
        "outputId": "108dccf6-e86e-4b28-bbbf-4fb76055dcda"
      },
      "execution_count": 103,
      "outputs": [
        {
          "output_type": "stream",
          "name": "stdout",
          "text": [
            "{'fit_time': array([0.01149201, 0.00732565, 0.00752521, 0.00747681, 0.00891709]), 'score_time': array([0.00108218, 0.00079155, 0.00085592, 0.00079322, 0.00091147]), 'test_score': array([0.86923077, 0.84615385, 0.87680462, 0.84889317, 0.83541867])}\n",
            "0.855300214703487\n"
          ]
        }
      ]
    },
    {
      "cell_type": "markdown",
      "source": [
        "### cross_validate\n",
        "output<br>\n",
        "dict\n",
        "fit_time 모델을 훈련하는 시간<br>\n",
        "score_time 모델을 검증하는 시간<br>\n",
        "test_score 검증세트로 평가한 점수<br>\n",
        "\n",
        "---\n",
        "회귀 모델일 경우: KFold 분할기<br>\n",
        "분류 모델일 경우: StratifiedKFold<br>\n",
        "\n",
        "---\n",
        "cross_validate는 훈련세트를 섞어 폴드를 나누지 않는다.(섞고 싶다면 cv = splitter 분할기 (KFold, StratifiedKFold)사용)<br>\n",
        "분할기에 n_splits 매개변수에 n 값을 넣었다면 n-fold cross validation\n"
      ],
      "metadata": {
        "id": "r8rK90Nrrt6Q"
      }
    },
    {
      "cell_type": "code",
      "source": [
        "# 위 코드와 동일\n",
        "from sklearn.model_selection import StratifiedKFold\n",
        "scores = cross_validate(dt, train_input, train_target, cv=StratifiedKFold())\n",
        "print(np.mean(scores['test_score']))"
      ],
      "metadata": {
        "colab": {
          "base_uri": "https://localhost:8080/"
        },
        "id": "WFDpOLoQtgjc",
        "outputId": "b1dfa0b5-eda2-45a2-b33e-f960f334397b"
      },
      "execution_count": 104,
      "outputs": [
        {
          "output_type": "stream",
          "name": "stdout",
          "text": [
            "0.855300214703487\n"
          ]
        }
      ]
    },
    {
      "cell_type": "code",
      "source": [
        "from sklearn.model_selection import StratifiedKFold\n",
        "splitter = StratifiedKFold(n_splits=10, shuffle=True, random_state=42)\n",
        "score = cross_validate(dt, train_input, train_target, cv=splitter)\n",
        "print(np.mean(scores['test_score']))"
      ],
      "metadata": {
        "colab": {
          "base_uri": "https://localhost:8080/"
        },
        "id": "y6z7a20prLXt",
        "outputId": "0deef9c1-c322-451a-de4f-38dc86162271"
      },
      "execution_count": 105,
      "outputs": [
        {
          "output_type": "stream",
          "name": "stdout",
          "text": [
            "0.855300214703487\n"
          ]
        }
      ]
    },
    {
      "cell_type": "markdown",
      "source": [
        "# ***최적의 모델을 위한 하이퍼파라미터 탐색***"
      ],
      "metadata": {
        "id": "eU-v8Trcv9pf"
      }
    },
    {
      "cell_type": "markdown",
      "source": [
        "#그리드 서치(GridSearch)\n",
        "하이퍼파라미터 탐색과 교차 검증을 한번에 수행한다.(cross_validate() 함수를 호출할 필요 없음)<br>\n",
        "sklearn.model_selection의 GridSearchCV 클래스<br>\n",
        "ex) 아래 결정 트리 모델에서 min_impurity_decrease 매개 변수의 최적값을 찾는 예제"
      ],
      "metadata": {
        "id": "uMuH4D-fwoDP"
      }
    },
    {
      "cell_type": "markdown",
      "source": [
        "n_jobs = -1 병렬 실행에 사용할 CPU 코어 수를 지정 기본값 1, (-1: 모든 코어)<br>\n",
        "GridSearchCV의 best_estimator_ 속성에 검증 점수가 가장 높은 모델이 저장되어 있음.\n"
      ],
      "metadata": {
        "id": "OKNqjg_cxdBn"
      }
    },
    {
      "cell_type": "code",
      "source": [
        "from sklearn.model_selection import GridSearchCV\n",
        "params = {'min_impurity_decrease': [0.0001, 0.0002, 0.0003, 0.0004, 0.0005]}\n",
        "gs = GridSearchCV(DecisionTreeClassifier(random_state=42), params, n_jobs=-1)"
      ],
      "metadata": {
        "id": "xC1VC5PYvBwD"
      },
      "execution_count": 106,
      "outputs": []
    },
    {
      "cell_type": "code",
      "source": [
        "gs.fit(train_input, train_target)"
      ],
      "metadata": {
        "colab": {
          "base_uri": "https://localhost:8080/"
        },
        "id": "p1ERbRuzwOoR",
        "outputId": "d0f05173-bf02-41c7-cc43-0c41642a3a6d"
      },
      "execution_count": 107,
      "outputs": [
        {
          "output_type": "execute_result",
          "data": {
            "text/plain": [
              "GridSearchCV(estimator=DecisionTreeClassifier(random_state=42), n_jobs=-1,\n",
              "             param_grid={'min_impurity_decrease': [0.0001, 0.0002, 0.0003,\n",
              "                                                   0.0004, 0.0005]})"
            ]
          },
          "metadata": {},
          "execution_count": 107
        }
      ]
    },
    {
      "cell_type": "code",
      "source": [
        "dt = gs.best_estimator_\n",
        "print(dt.score(train_input, train_target))"
      ],
      "metadata": {
        "id": "7qz2WwSTwUbL",
        "colab": {
          "base_uri": "https://localhost:8080/"
        },
        "outputId": "3063ab07-fc3e-410a-f3a8-b327eaceabbe"
      },
      "execution_count": 108,
      "outputs": [
        {
          "output_type": "stream",
          "name": "stdout",
          "text": [
            "0.9615162593804117\n"
          ]
        }
      ]
    },
    {
      "cell_type": "code",
      "source": [
        "print(gs.best_params_)"
      ],
      "metadata": {
        "colab": {
          "base_uri": "https://localhost:8080/"
        },
        "id": "O4-3pJ7KYMzN",
        "outputId": "5d21a2cb-d0dc-4f60-c22d-87055ce8b5ab"
      },
      "execution_count": 109,
      "outputs": [
        {
          "output_type": "stream",
          "name": "stdout",
          "text": [
            "{'min_impurity_decrease': 0.0001}\n"
          ]
        }
      ]
    },
    {
      "cell_type": "code",
      "source": [
        "print(gs.cv_results_)\n",
        "print(gs.cv_results_['mean_test_score'])"
      ],
      "metadata": {
        "colab": {
          "base_uri": "https://localhost:8080/"
        },
        "id": "2gDcowxvoEfp",
        "outputId": "a4b6596e-c64f-4f2d-e96b-df3418aa9fe0"
      },
      "execution_count": 110,
      "outputs": [
        {
          "output_type": "stream",
          "name": "stdout",
          "text": [
            "{'mean_fit_time': array([0.01005912, 0.00823369, 0.00824933, 0.00788636, 0.00666676]), 'std_fit_time': array([0.00141344, 0.00035414, 0.00065455, 0.00067027, 0.00019055]), 'mean_score_time': array([0.00205145, 0.00116706, 0.00109887, 0.00125065, 0.00092096]), 'std_score_time': array([0.00183917, 0.00010181, 0.00011662, 0.00026602, 0.00010711]), 'param_min_impurity_decrease': masked_array(data=[0.0001, 0.0002, 0.0003, 0.0004, 0.0005],\n",
            "             mask=[False, False, False, False, False],\n",
            "       fill_value='?',\n",
            "            dtype=object), 'params': [{'min_impurity_decrease': 0.0001}, {'min_impurity_decrease': 0.0002}, {'min_impurity_decrease': 0.0003}, {'min_impurity_decrease': 0.0004}, {'min_impurity_decrease': 0.0005}], 'split0_test_score': array([0.86923077, 0.87115385, 0.86923077, 0.86923077, 0.86538462]), 'split1_test_score': array([0.86826923, 0.86346154, 0.85961538, 0.86346154, 0.86923077]), 'split2_test_score': array([0.8825794 , 0.87680462, 0.87584216, 0.88161694, 0.8825794 ]), 'split3_test_score': array([0.86717998, 0.85466795, 0.85081809, 0.84889317, 0.84985563]), 'split4_test_score': array([0.85370549, 0.85659288, 0.86910491, 0.87584216, 0.87102984]), 'mean_test_score': array([0.86819297, 0.86453617, 0.86492226, 0.86780891, 0.86761605]), 'std_test_score': array([0.00915386, 0.00843731, 0.0087452 , 0.01125985, 0.01056953]), 'rank_test_score': array([1, 5, 4, 2, 3], dtype=int32)}\n",
            "[0.86819297 0.86453617 0.86492226 0.86780891 0.86761605]\n"
          ]
        }
      ]
    },
    {
      "cell_type": "code",
      "source": [
        "best_index = np.argmax(gs.cv_results_['mean_test_score'])\n",
        "print(gs.cv_results_['params'][best_index])"
      ],
      "metadata": {
        "colab": {
          "base_uri": "https://localhost:8080/"
        },
        "id": "EhF2PHQqoKzc",
        "outputId": "5dab2a13-d0cd-46a4-8ca8-5f5eb55e71de"
      },
      "execution_count": 111,
      "outputs": [
        {
          "output_type": "stream",
          "name": "stdout",
          "text": [
            "{'min_impurity_decrease': 0.0001}\n"
          ]
        }
      ]
    },
    {
      "cell_type": "code",
      "source": [
        "params = {'min_impurity_decrease': np.arange(0.0001, 0.001, 0.0001),\n",
        "'max_depth': range(5, 20, 1),\n",
        "'min_samples_split': range(2, 100, 10)}"
      ],
      "metadata": {
        "id": "J66gefbdqVbA"
      },
      "execution_count": 112,
      "outputs": []
    },
    {
      "cell_type": "code",
      "source": [
        "gs = GridSearchCV(DecisionTreeClassifier(random_state=42), params, n_jobs=-1)\n",
        "gs.fit(train_input, train_target)"
      ],
      "metadata": {
        "colab": {
          "base_uri": "https://localhost:8080/"
        },
        "id": "qW50J3X6r4d7",
        "outputId": "935cc51e-ecd4-4198-8435-4e68da735140"
      },
      "execution_count": 113,
      "outputs": [
        {
          "output_type": "execute_result",
          "data": {
            "text/plain": [
              "GridSearchCV(estimator=DecisionTreeClassifier(random_state=42), n_jobs=-1,\n",
              "             param_grid={'max_depth': range(5, 20),\n",
              "                         'min_impurity_decrease': array([0.0001, 0.0002, 0.0003, 0.0004, 0.0005, 0.0006, 0.0007, 0.0008,\n",
              "       0.0009]),\n",
              "                         'min_samples_split': range(2, 100, 10)})"
            ]
          },
          "metadata": {},
          "execution_count": 113
        }
      ]
    },
    {
      "cell_type": "code",
      "source": [
        "print(gs.best_params_)"
      ],
      "metadata": {
        "colab": {
          "base_uri": "https://localhost:8080/"
        },
        "id": "IPsQHW85sHXM",
        "outputId": "01277f08-9204-4e61-f8de-b606919d5f07"
      },
      "execution_count": 114,
      "outputs": [
        {
          "output_type": "stream",
          "name": "stdout",
          "text": [
            "{'max_depth': 14, 'min_impurity_decrease': 0.0004, 'min_samples_split': 12}\n"
          ]
        }
      ]
    },
    {
      "cell_type": "code",
      "source": [
        "print(np.max(gs.cv_results_['mean_test_score']))"
      ],
      "metadata": {
        "colab": {
          "base_uri": "https://localhost:8080/"
        },
        "id": "Q4i_Dr4KsPxN",
        "outputId": "7bd11d6e-166e-4ad3-be37-298b28ffc789"
      },
      "execution_count": 115,
      "outputs": [
        {
          "output_type": "stream",
          "name": "stdout",
          "text": [
            "0.8683865773302731\n"
          ]
        }
      ]
    },
    {
      "cell_type": "markdown",
      "source": [
        "#랜덤 서치(Random Search)\n",
        "랜덤 서치는 매개변수의 목록을 전달하는 것이 아니라 매개변수를 샘플링할 수 있는 확률 분포 객체를 전달"
      ],
      "metadata": {
        "id": "mvCLGzy6tCOf"
      }
    },
    {
      "cell_type": "code",
      "source": [
        "from scipy.stats import uniform, randint\n",
        "# 모두 주어진 볌위에서 고르게 값을 뽑는 클래스, '균등분포에서 샘플링한다'라고 말한다.\n",
        "# uniform은 실수 값, randint 정수 값을 뽑는다.\n",
        "rgen = randint(0, 10) \n",
        "print(rgen.rvs(10))  # 10개 뽑음"
      ],
      "metadata": {
        "colab": {
          "base_uri": "https://localhost:8080/"
        },
        "id": "doRtvG1ZtUCl",
        "outputId": "a3e403ca-eb86-4e59-e39d-7b4c0c15e3d4"
      },
      "execution_count": 116,
      "outputs": [
        {
          "output_type": "stream",
          "name": "stdout",
          "text": [
            "[0 8 8 9 5 4 9 0 4 3]\n"
          ]
        }
      ]
    },
    {
      "cell_type": "code",
      "source": [
        "np.unique(rgen.rvs(1000), return_counts=True)  # 1000개 뽑음"
      ],
      "metadata": {
        "colab": {
          "base_uri": "https://localhost:8080/"
        },
        "id": "4dx-Gn8zuGG7",
        "outputId": "d259dfcc-3858-464c-feff-357597ecf158"
      },
      "execution_count": 117,
      "outputs": [
        {
          "output_type": "execute_result",
          "data": {
            "text/plain": [
              "(array([0, 1, 2, 3, 4, 5, 6, 7, 8, 9]),\n",
              " array([105, 109,  79, 111,  95,  97,  94, 109, 101, 100]))"
            ]
          },
          "metadata": {},
          "execution_count": 117
        }
      ]
    },
    {
      "cell_type": "code",
      "source": [
        "ugen = uniform(0, 1)\n",
        "ugen.rvs(10)"
      ],
      "metadata": {
        "colab": {
          "base_uri": "https://localhost:8080/"
        },
        "id": "l1eCwJN5urfM",
        "outputId": "9f067426-a568-40b7-af4b-5cf2833402ba"
      },
      "execution_count": 118,
      "outputs": [
        {
          "output_type": "execute_result",
          "data": {
            "text/plain": [
              "array([0.54727713, 0.42705956, 0.72364543, 0.54309522, 0.20364394,\n",
              "       0.32454559, 0.40244211, 0.07961767, 0.57805934, 0.22688986])"
            ]
          },
          "metadata": {},
          "execution_count": 118
        }
      ]
    },
    {
      "cell_type": "code",
      "source": [
        "params = {'min_impurity_decrease': uniform(0.0001, 0.001),\n",
        "          'max_depth': randint(20, 50),\n",
        "          'min_samples_split': randint(2, 25),\n",
        "          'min_samples_leaf': randint(1, 25)}"
      ],
      "metadata": {
        "id": "LXipJKbqu1j0"
      },
      "execution_count": 119,
      "outputs": []
    },
    {
      "cell_type": "code",
      "source": [
        "from sklearn.model_selection import RandomizedSearchCV\n",
        "rs = RandomizedSearchCV(DecisionTreeClassifier(random_state=42), params, n_iter=100, n_jobs=-1, random_state=42)\n",
        "rs.fit(train_input, train_target)"
      ],
      "metadata": {
        "colab": {
          "base_uri": "https://localhost:8080/"
        },
        "id": "lw01eCDYvtnT",
        "outputId": "9b20b2f7-9943-4622-d239-1a996c5bc578"
      },
      "execution_count": 120,
      "outputs": [
        {
          "output_type": "execute_result",
          "data": {
            "text/plain": [
              "RandomizedSearchCV(estimator=DecisionTreeClassifier(random_state=42),\n",
              "                   n_iter=100, n_jobs=-1,\n",
              "                   param_distributions={'max_depth': <scipy.stats._distn_infrastructure.rv_frozen object at 0x7f452ed9dfd0>,\n",
              "                                        'min_impurity_decrease': <scipy.stats._distn_infrastructure.rv_frozen object at 0x7f452f008c90>,\n",
              "                                        'min_samples_leaf': <scipy.stats._distn_infrastructure.rv_frozen object at 0x7f452ebfb250>,\n",
              "                                        'min_samples_split': <scipy.stats._distn_infrastructure.rv_frozen object at 0x7f452ed9d650>},\n",
              "                   random_state=42)"
            ]
          },
          "metadata": {},
          "execution_count": 120
        }
      ]
    },
    {
      "cell_type": "code",
      "source": [
        "print(rs.best_params_)"
      ],
      "metadata": {
        "colab": {
          "base_uri": "https://localhost:8080/"
        },
        "id": "SwKNeO_tyU1G",
        "outputId": "382d53e4-c689-4013-e246-bbfcb990327c"
      },
      "execution_count": 121,
      "outputs": [
        {
          "output_type": "stream",
          "name": "stdout",
          "text": [
            "{'max_depth': 39, 'min_impurity_decrease': 0.00034102546602601173, 'min_samples_leaf': 7, 'min_samples_split': 13}\n"
          ]
        }
      ]
    },
    {
      "cell_type": "code",
      "source": [
        "print(np.max(rs.cv_results_['mean_test_score']))"
      ],
      "metadata": {
        "colab": {
          "base_uri": "https://localhost:8080/"
        },
        "id": "ja4JnV0qyW_8",
        "outputId": "59014a22-528e-40b1-ca55-3d6d452ada51"
      },
      "execution_count": 122,
      "outputs": [
        {
          "output_type": "stream",
          "name": "stdout",
          "text": [
            "0.8695428296438884\n"
          ]
        }
      ]
    },
    {
      "cell_type": "code",
      "source": [
        "dt = rs.best_estimator_\n",
        "print(dt.score(test_input, test_target))"
      ],
      "metadata": {
        "colab": {
          "base_uri": "https://localhost:8080/"
        },
        "id": "JnKe3x70ychP",
        "outputId": "8b97dbd3-6d90-45ec-bd42-8b99e9097e29"
      },
      "execution_count": 123,
      "outputs": [
        {
          "output_type": "stream",
          "name": "stdout",
          "text": [
            "0.86\n"
          ]
        }
      ]
    },
    {
      "cell_type": "code",
      "source": [
        "from sklearn.model_selection import RandomizedSearchCV\n",
        "rs = RandomizedSearchCV(DecisionTreeClassifier(random_state=42, splitter='random'), params, n_iter=100, n_jobs=-1, random_state=42)  # 객체 생성\n",
        "rs.fit(train_input, train_target)  # 모델 훈련\n",
        "print(rs.best_params_)  # 매개변수 조합의 best 출력\n",
        "dt = rs.best_estimator_\n",
        "print(dt.score(test_input, test_target))"
      ],
      "metadata": {
        "colab": {
          "base_uri": "https://localhost:8080/"
        },
        "id": "1gE5y0BbF5j1",
        "outputId": "ea796fcb-3877-405b-97c6-44bcd8961983"
      },
      "execution_count": 139,
      "outputs": [
        {
          "output_type": "stream",
          "name": "stdout",
          "text": [
            "{'max_depth': 43, 'min_impurity_decrease': 0.00011407982271508446, 'min_samples_leaf': 19, 'min_samples_split': 18}\n",
            "0.786923076923077\n"
          ]
        }
      ]
    }
  ]
}