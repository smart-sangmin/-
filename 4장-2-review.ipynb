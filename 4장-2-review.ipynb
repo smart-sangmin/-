{
  "nbformat": 4,
  "nbformat_minor": 0,
  "metadata": {
    "colab": {
      "name": "4장-2-review",
      "provenance": [],
      "authorship_tag": "ABX9TyNhII25xFfFireyXjCSUli1"
    },
    "kernelspec": {
      "name": "python3",
      "display_name": "Python 3"
    },
    "language_info": {
      "name": "python"
    }
  },
  "cells": [
    {
      "cell_type": "markdown",
      "source": [
        "#확률적 경사 하강법(분류)\n"
      ],
      "metadata": {
        "id": "vWaP8PEckUY0"
      }
    },
    {
      "cell_type": "code",
      "execution_count": 9,
      "metadata": {
        "id": "utGRJtUVdiCJ"
      },
      "outputs": [],
      "source": [
        "import pandas as pd\n",
        "fish = pd.read_csv('https://bit.ly/fish_csv_data')"
      ]
    },
    {
      "cell_type": "code",
      "source": [
        "fish_input = fish[['Weight', 'Length', 'Diagonal', 'Height', 'Width']].to_numpy()\n",
        "fish_target = fish['Species'].to_numpy()"
      ],
      "metadata": {
        "id": "T5DxCCo6kjOT"
      },
      "execution_count": 10,
      "outputs": []
    },
    {
      "cell_type": "code",
      "source": [
        "from sklearn.model_selection import train_test_split\n",
        "train_input, test_input, train_target, test_target = train_test_split(fish_input, fish_target)"
      ],
      "metadata": {
        "id": "jeK80meskvYE"
      },
      "execution_count": 11,
      "outputs": []
    },
    {
      "cell_type": "code",
      "source": [
        "from sklearn.preprocessing import StandardScaler\n",
        "ss = StandardScaler()\n",
        "ss.fit(train_input)\n",
        "train_scaled = ss.transform(train_input)\n",
        "test_scaled = ss.transform(test_input)"
      ],
      "metadata": {
        "id": "kGoJ4hoBlIAw"
      },
      "execution_count": 12,
      "outputs": []
    },
    {
      "cell_type": "markdown",
      "source": [
        "손실함수: log로 정의 (이 경우 클래스마다 이진 분류 모델을 만든다. 이런 방식을 OvR(One versus Rest)이라고 부른다.)<br>\n",
        "에포크 횟수: 10으로 정의 (기본 값 1000)"
      ],
      "metadata": {
        "id": "urrFZShAly3A"
      }
    },
    {
      "cell_type": "code",
      "source": [
        "from sklearn.linear_model import SGDClassifier\n",
        "sc = SGDClassifier(loss='log', max_iter=10)\n",
        "sc.fit(train_scaled, train_target)\n",
        "print(sc.score(train_scaled, train_target))\n",
        "print(sc.score(test_scaled, test_target))\n",
        "sc.partial_fit(train_scaled, train_target)\n",
        "print(sc.score(train_scaled, train_target))\n",
        "iprint(sc.score(test_scaled, test_target))"
      ],
      "metadata": {
        "colab": {
          "base_uri": "https://localhost:8080/"
        },
        "id": "FxYybyUIlExx",
        "outputId": "50939d8e-a102-45e1-9f50-7290f5419a57"
      },
      "execution_count": 15,
      "outputs": [
        {
          "output_type": "stream",
          "name": "stdout",
          "text": [
            "0.7983193277310925\n",
            "0.775\n",
            "0.7815126050420168\n",
            "0.85\n"
          ]
        },
        {
          "output_type": "stream",
          "name": "stderr",
          "text": [
            "/usr/local/lib/python3.7/dist-packages/sklearn/linear_model/_stochastic_gradient.py:700: ConvergenceWarning: Maximum number of iteration reached before convergence. Consider increasing max_iter to improve the fit.\n",
            "  ConvergenceWarning,\n"
          ]
        }
      ]
    },
    {
      "cell_type": "markdown",
      "source": [
        "#확률적 경사 하강법(회귀모델)"
      ],
      "metadata": {
        "id": "iJLhbN7zyKSe"
      }
    },
    {
      "cell_type": "code",
      "source": [
        "fish_input = fish[['Length', 'Diagonal', 'Height', 'Width']].to_numpy()\n",
        "fish_target = fish['Weight'].to_numpy()"
      ],
      "metadata": {
        "id": "M6Pii_N9up54"
      },
      "execution_count": 25,
      "outputs": []
    },
    {
      "cell_type": "code",
      "source": [
        "train_input, test_input, train_target, test_target = train_test_split(fish_input, fish_target)\n",
        "ss = StandardScaler()\n",
        "ss.fit(train_input)\n",
        "train_scaled = ss.transform(train_input)\n",
        "test_scaled = ss.transform(test_input)"
      ],
      "metadata": {
        "id": "trFn4reiv_SG"
      },
      "execution_count": 26,
      "outputs": []
    },
    {
      "cell_type": "code",
      "source": [
        "from sklearn.linear_model import SGDRegressor\n",
        "sr = SGDRegressor()\n",
        "sr.fit(train_scaled, train_target)\n",
        "print(sr.score(train_scaled, train_target))\n",
        "print(sr.score(test_scaled, test_target))"
      ],
      "metadata": {
        "colab": {
          "base_uri": "https://localhost:8080/"
        },
        "id": "feyOQkGAwm9u",
        "outputId": "780be31c-3f54-4a12-cabc-0b4f97c476cc"
      },
      "execution_count": 28,
      "outputs": [
        {
          "output_type": "stream",
          "name": "stdout",
          "text": [
            "0.8840519736778484\n",
            "0.8657964663775958\n"
          ]
        }
      ]
    }
  ]
}